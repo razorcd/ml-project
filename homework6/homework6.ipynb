{
 "cells": [
  {
   "cell_type": "code",
   "execution_count": 1,
   "metadata": {
    "_cell_guid": "b1076dfc-b9ad-4769-8c92-a6c4dae69d19",
    "_uuid": "8f2839f25d086af736a60e9eeb907d3b93b6e0e5",
    "execution": {
     "iopub.execute_input": "2021-10-19T22:50:33.179691Z",
     "iopub.status.busy": "2021-10-19T22:50:33.179387Z",
     "iopub.status.idle": "2021-10-19T22:50:33.190098Z",
     "shell.execute_reply": "2021-10-19T22:50:33.189396Z",
     "shell.execute_reply.started": "2021-10-19T22:50:33.179659Z"
    }
   },
   "outputs": [
    {
     "name": "stdout",
     "output_type": "stream",
     "text": [
      "./AB_NYC_2019.csv\n",
      "./homework6.ipynb\n",
      "./.ipynb_checkpoints/homework6-checkpoint.ipynb\n"
     ]
    }
   ],
   "source": [
    "# This Python 3 environment comes with many helpful analytics libraries installed\n",
    "# It is defined by the kaggle/python Docker image: https://github.com/kaggle/docker-python\n",
    "# For example, here's several helpful packages to load\n",
    "\n",
    "import numpy as np # linear algebra\n",
    "import pandas as pd # data processing, CSV file I/O (e.g. pd.read_csv)\n",
    "\n",
    "# Input data files are available in the read-only \"../input/\" directory\n",
    "# For example, running this (by clicking run or pressing Shift+Enter) will list all files under the input directory\n",
    "\n",
    "import os\n",
    "for dirname, _, filenames in os.walk('.'):\n",
    "    for filename in filenames:\n",
    "        print(os.path.join(dirname, filename))\n",
    "\n",
    "# You can write up to 20GB to the current directory (/kaggle/working/) that gets preserved as output when you create a version using \"Save & Run All\" \n",
    "# You can also write temporary files to /kaggle/temp/, but they won't be saved outside of the current session\n",
    "\n",
    "\n"
   ]
  },
  {
   "cell_type": "code",
   "execution_count": 2,
   "metadata": {
    "execution": {
     "iopub.execute_input": "2021-10-19T22:50:33.192272Z",
     "iopub.status.busy": "2021-10-19T22:50:33.191575Z",
     "iopub.status.idle": "2021-10-19T22:50:33.330102Z",
     "shell.execute_reply": "2021-10-19T22:50:33.329177Z",
     "shell.execute_reply.started": "2021-10-19T22:50:33.192237Z"
    }
   },
   "outputs": [],
   "source": [
    "import pandas as pd\n",
    "import numpy as np\n",
    "\n",
    "import matplotlib.pyplot as plt\n",
    "import seaborn as sns\n",
    "\n",
    "%matplotlib inline\n",
    "\n",
    "columns = [\n",
    "    'neighbourhood_group', 'room_type', 'latitude', 'longitude',\n",
    "    'minimum_nights', 'number_of_reviews','reviews_per_month',\n",
    "    'calculated_host_listings_count', 'availability_365',\n",
    "    'price'\n",
    "]\n",
    "\n",
    "df = pd.read_csv('AB_NYC_2019.csv', usecols=columns)\n",
    "df.reviews_per_month = df.reviews_per_month.fillna(0)\n",
    "# df.isna().sum()"
   ]
  },
  {
   "cell_type": "code",
   "execution_count": 3,
   "metadata": {
    "execution": {
     "iopub.execute_input": "2021-10-19T22:50:33.332392Z",
     "iopub.status.busy": "2021-10-19T22:50:33.331515Z",
     "iopub.status.idle": "2021-10-19T22:50:33.684132Z",
     "shell.execute_reply": "2021-10-19T22:50:33.683161Z",
     "shell.execute_reply.started": "2021-10-19T22:50:33.332356Z"
    }
   },
   "outputs": [
    {
     "data": {
      "text/plain": [
       "<AxesSubplot:ylabel='Count'>"
      ]
     },
     "execution_count": 3,
     "metadata": {},
     "output_type": "execute_result"
    },
    {
     "data": {
      "image/png": "[encoded data removed]",
      "text/plain": [
       "<Figure size 432x288 with 1 Axes>"
      ]
     },
     "metadata": {
      "needs_background": "light"
     },
     "output_type": "display_data"
    }
   ],
   "source": [
    "from sklearn.model_selection import train_test_split\n",
    "\n",
    "df_full_train, df_test = train_test_split(df[columns], test_size=0.2, random_state=1)\n",
    "df_train,  df_val = train_test_split(df_full_train, test_size=0.25, random_state=1)\n",
    "\n",
    "df_train = df_train.reset_index(drop=True)\n",
    "df_val = df_val.reset_index(drop=True)\n",
    "df_test = df_test.reset_index(drop=True)\n",
    "\n",
    "y_train = np.log1p(df_train.price.values)\n",
    "y_val = np.log1p(df_val.price.values)\n",
    "y_test = np.log1p(df_test.price.values)\n",
    "\n",
    "del df_train[\"price\"]\n",
    "del df_val[\"price\"]\n",
    "del df_test[\"price\"]\n",
    "\n",
    "sns.histplot(y_train, bins=50, color='red')"
   ]
  },
  {
   "cell_type": "code",
   "execution_count": 4,
   "metadata": {
    "execution": {
     "iopub.execute_input": "2021-10-19T22:50:33.686324Z",
     "iopub.status.busy": "2021-10-19T22:50:33.685894Z",
     "iopub.status.idle": "2021-10-19T22:50:34.356180Z",
     "shell.execute_reply": "2021-10-19T22:50:34.355196Z",
     "shell.execute_reply.started": "2021-10-19T22:50:33.686291Z"
    }
   },
   "outputs": [
    {
     "name": "stdout",
     "output_type": "stream",
     "text": [
      "|--- room_type=Entire home/apt <= 0.50\n",
      "|   |--- value: [4.29]\n",
      "|--- room_type=Entire home/apt >  0.50\n",
      "|   |--- value: [5.15]\n",
      "\n"
     ]
    }
   ],
   "source": [
    "# Q1\n",
    "from sklearn.feature_extraction import DictVectorizer\n",
    "from sklearn.tree import DecisionTreeRegressor\n",
    "from sklearn.metrics import roc_auc_score\n",
    "\n",
    "train_dict = df_train.to_dict(orient='records')\n",
    "dv = DictVectorizer(sparse=False)\n",
    "X_train = dv.fit_transform(train_dict)\n",
    "\n",
    "# dv.get_feature_names()\n",
    "\n",
    "dt = DecisionTreeRegressor(max_depth=1)\n",
    "dt.fit(X_train, y_train)\n",
    "\n",
    "\n",
    "# val_dict = df_val.to_dict(orient='records')\n",
    "# X_val = dv.transform(val_dict)\n",
    "# y_pred = dt.predict(X_val)\n",
    "# roc_auc_score(y_val, y_pred)\n",
    "\n",
    "\n",
    "#print decision tree\n",
    "from sklearn.tree import export_text\n",
    "print(export_text(dt, feature_names=dv.get_feature_names()))\n",
    "\n"
   ]
  },
  {
   "cell_type": "code",
   "execution_count": 5,
   "metadata": {
    "execution": {
     "iopub.execute_input": "2021-10-19T23:03:54.990642Z",
     "iopub.status.busy": "2021-10-19T23:03:54.990323Z",
     "iopub.status.idle": "2021-10-19T23:03:56.634332Z",
     "shell.execute_reply": "2021-10-19T23:03:56.633715Z",
     "shell.execute_reply.started": "2021-10-19T23:03:54.990610Z"
    }
   },
   "outputs": [
    {
     "data": {
      "text/plain": [
       "0.4598535778342608"
      ]
     },
     "execution_count": 5,
     "metadata": {},
     "output_type": "execute_result"
    }
   ],
   "source": [
    "# Q2\n",
    "# Random Forest of decision trees\n",
    "from sklearn.feature_extraction import DictVectorizer\n",
    "from sklearn.ensemble import RandomForestRegressor\n",
    "from sklearn.metrics import roc_auc_score\n",
    "\n",
    "train_dict = df_train.to_dict(orient='records')\n",
    "dv = DictVectorizer(sparse=False)\n",
    "X_train = dv.fit_transform(train_dict)\n",
    "\n",
    "rf = RandomForestRegressor(n_estimators=10, random_state=1, n_jobs=-1)\n",
    "rf.fit(X_train, y_train)\n",
    "\n",
    "val_dict = df_val.to_dict(orient='records')\n",
    "X_val = dv.transform(val_dict)\n",
    "y_pred = rf.predict(X_val)\n",
    "\n",
    "from sklearn.metrics import mean_squared_error\n",
    "rmse = mean_squared_error(y_val, y_pred , squared=False)\n",
    "rmse"
   ]
  },
  {
   "cell_type": "code",
   "execution_count": 9,
   "metadata": {
    "execution": {
     "iopub.execute_input": "2021-10-19T23:06:56.390020Z",
     "iopub.status.busy": "2021-10-19T23:06:56.389752Z"
    }
   },
   "outputs": [
    {
     "data": {
      "text/html": [
       "<div>\n",
       "<style scoped>\n",
       "    .dataframe tbody tr th:only-of-type {\n",
       "        vertical-align: middle;\n",
       "    }\n",
       "\n",
       "    .dataframe tbody tr th {\n",
       "        vertical-align: top;\n",
       "    }\n",
       "\n",
       "    .dataframe thead th {\n",
       "        text-align: right;\n",
       "    }\n",
       "</style>\n",
       "<table border=\"1\" class=\"dataframe\">\n",
       "  <thead>\n",
       "    <tr style=\"text-align: right;\">\n",
       "      <th></th>\n",
       "      <th>n_estimators</th>\n",
       "      <th>rmse</th>\n",
       "    </tr>\n",
       "  </thead>\n",
       "  <tbody>\n",
       "    <tr>\n",
       "      <th>0</th>\n",
       "      <td>10</td>\n",
       "      <td>0.459854</td>\n",
       "    </tr>\n",
       "    <tr>\n",
       "      <th>1</th>\n",
       "      <td>20</td>\n",
       "      <td>0.447831</td>\n",
       "    </tr>\n",
       "    <tr>\n",
       "      <th>2</th>\n",
       "      <td>30</td>\n",
       "      <td>0.445120</td>\n",
       "    </tr>\n",
       "    <tr>\n",
       "      <th>3</th>\n",
       "      <td>40</td>\n",
       "      <td>0.443225</td>\n",
       "    </tr>\n",
       "    <tr>\n",
       "      <th>4</th>\n",
       "      <td>50</td>\n",
       "      <td>0.442231</td>\n",
       "    </tr>\n",
       "    <tr>\n",
       "      <th>5</th>\n",
       "      <td>60</td>\n",
       "      <td>0.441535</td>\n",
       "    </tr>\n",
       "    <tr>\n",
       "      <th>6</th>\n",
       "      <td>70</td>\n",
       "      <td>0.440867</td>\n",
       "    </tr>\n",
       "    <tr>\n",
       "      <th>7</th>\n",
       "      <td>80</td>\n",
       "      <td>0.440763</td>\n",
       "    </tr>\n",
       "    <tr>\n",
       "      <th>8</th>\n",
       "      <td>90</td>\n",
       "      <td>0.440244</td>\n",
       "    </tr>\n",
       "    <tr>\n",
       "      <th>9</th>\n",
       "      <td>100</td>\n",
       "      <td>0.439783</td>\n",
       "    </tr>\n",
       "    <tr>\n",
       "      <th>10</th>\n",
       "      <td>110</td>\n",
       "      <td>0.439328</td>\n",
       "    </tr>\n",
       "    <tr>\n",
       "      <th>11</th>\n",
       "      <td>120</td>\n",
       "      <td>0.439140</td>\n",
       "    </tr>\n",
       "    <tr>\n",
       "      <th>12</th>\n",
       "      <td>130</td>\n",
       "      <td>0.439260</td>\n",
       "    </tr>\n",
       "    <tr>\n",
       "      <th>13</th>\n",
       "      <td>140</td>\n",
       "      <td>0.439107</td>\n",
       "    </tr>\n",
       "    <tr>\n",
       "      <th>14</th>\n",
       "      <td>150</td>\n",
       "      <td>0.439099</td>\n",
       "    </tr>\n",
       "    <tr>\n",
       "      <th>15</th>\n",
       "      <td>160</td>\n",
       "      <td>0.438913</td>\n",
       "    </tr>\n",
       "    <tr>\n",
       "      <th>16</th>\n",
       "      <td>170</td>\n",
       "      <td>0.438866</td>\n",
       "    </tr>\n",
       "    <tr>\n",
       "      <th>17</th>\n",
       "      <td>180</td>\n",
       "      <td>0.439054</td>\n",
       "    </tr>\n",
       "    <tr>\n",
       "      <th>18</th>\n",
       "      <td>190</td>\n",
       "      <td>0.438946</td>\n",
       "    </tr>\n",
       "    <tr>\n",
       "      <th>19</th>\n",
       "      <td>200</td>\n",
       "      <td>0.438943</td>\n",
       "    </tr>\n",
       "  </tbody>\n",
       "</table>\n",
       "</div>"
      ],
      "text/plain": [
       "    n_estimators      rmse\n",
       "0             10  0.459854\n",
       "1             20  0.447831\n",
       "2             30  0.445120\n",
       "3             40  0.443225\n",
       "4             50  0.442231\n",
       "5             60  0.441535\n",
       "6             70  0.440867\n",
       "7             80  0.440763\n",
       "8             90  0.440244\n",
       "9            100  0.439783\n",
       "10           110  0.439328\n",
       "11           120  0.439140\n",
       "12           130  0.439260\n",
       "13           140  0.439107\n",
       "14           150  0.439099\n",
       "15           160  0.438913\n",
       "16           170  0.438866\n",
       "17           180  0.439054\n",
       "18           190  0.438946\n",
       "19           200  0.438943"
      ]
     },
     "metadata": {},
     "output_type": "display_data"
    },
    {
     "data": {
      "text/plain": [
       "[<matplotlib.lines.Line2D at 0x7f5d63498910>]"
      ]
     },
     "execution_count": 9,
     "metadata": {},
     "output_type": "execute_result"
    },
    {
     "data": {
      "image/png": "[encoded data removed]",
      "text/plain": [
       "<Figure size 432x288 with 1 Axes>"
      ]
     },
     "metadata": {
      "needs_background": "light"
     },
     "output_type": "display_data"
    }
   ],
   "source": [
    "# Q3\n",
    "from IPython.display import display\n",
    "import matplotlib.pyplot as plt\n",
    "\n",
    "scores = []\n",
    "for n in range(10, 201, 10):\n",
    "    rf = RandomForestRegressor(n_estimators=n, random_state=1, n_jobs=-1)\n",
    "    rf.fit(X_train, y_train)\n",
    "\n",
    "    y_pred = rf.predict(X_val)\n",
    "    rmse = mean_squared_error(y_val, y_pred , squared=False)\n",
    "    scores.append((n,rmse))\n",
    "\n",
    "df_scores = pd.DataFrame(scores, columns=['n_estimators','rmse'])    \n",
    "display(df_scores)\n",
    "\n",
    "plt.plot(df_scores.n_estimators, df_scores.rmse)\n"
   ]
  },
  {
   "cell_type": "code",
   "execution_count": 18,
   "metadata": {},
   "outputs": [
    {
     "name": "stdout",
     "output_type": "stream",
     "text": [
      "Processing d:10, n:10\n",
      "Processing d:10, n:20\n",
      "Processing d:10, n:30\n",
      "Processing d:10, n:40\n",
      "Processing d:10, n:50\n",
      "Processing d:10, n:60\n",
      "Processing d:10, n:70\n",
      "Processing d:10, n:80\n",
      "Processing d:10, n:90\n",
      "Processing d:10, n:100\n",
      "Processing d:10, n:110\n",
      "Processing d:10, n:120\n",
      "Processing d:10, n:130\n",
      "Processing d:10, n:140\n",
      "Processing d:10, n:150\n",
      "Processing d:10, n:160\n",
      "Processing d:10, n:170\n",
      "Processing d:10, n:180\n",
      "Processing d:10, n:190\n",
      "Processing d:10, n:200\n",
      "Processing d:15, n:10\n",
      "Processing d:15, n:20\n",
      "Processing d:15, n:30\n",
      "Processing d:15, n:40\n",
      "Processing d:15, n:50\n",
      "Processing d:15, n:60\n",
      "Processing d:15, n:70\n",
      "Processing d:15, n:80\n",
      "Processing d:15, n:90\n",
      "Processing d:15, n:100\n",
      "Processing d:15, n:110\n",
      "Processing d:15, n:120\n",
      "Processing d:15, n:130\n",
      "Processing d:15, n:140\n",
      "Processing d:15, n:150\n",
      "Processing d:15, n:160\n",
      "Processing d:15, n:170\n",
      "Processing d:15, n:180\n",
      "Processing d:15, n:190\n",
      "Processing d:15, n:200\n",
      "Processing d:20, n:10\n",
      "Processing d:20, n:20\n",
      "Processing d:20, n:30\n",
      "Processing d:20, n:40\n",
      "Processing d:20, n:50\n",
      "Processing d:20, n:60\n",
      "Processing d:20, n:70\n",
      "Processing d:20, n:80\n",
      "Processing d:20, n:90\n",
      "Processing d:20, n:100\n",
      "Processing d:20, n:110\n",
      "Processing d:20, n:120\n",
      "Processing d:20, n:130\n",
      "Processing d:20, n:140\n",
      "Processing d:20, n:150\n",
      "Processing d:20, n:160\n",
      "Processing d:20, n:170\n",
      "Processing d:20, n:180\n",
      "Processing d:20, n:190\n",
      "Processing d:20, n:200\n",
      "Processing d:25, n:10\n",
      "Processing d:25, n:20\n",
      "Processing d:25, n:30\n",
      "Processing d:25, n:40\n",
      "Processing d:25, n:50\n",
      "Processing d:25, n:60\n",
      "Processing d:25, n:70\n",
      "Processing d:25, n:80\n",
      "Processing d:25, n:90\n",
      "Processing d:25, n:100\n",
      "Processing d:25, n:110\n",
      "Processing d:25, n:120\n",
      "Processing d:25, n:130\n",
      "Processing d:25, n:140\n",
      "Processing d:25, n:150\n",
      "Processing d:25, n:160\n",
      "Processing d:25, n:170\n",
      "Processing d:25, n:180\n",
      "Processing d:25, n:190\n",
      "Processing d:25, n:200\n"
     ]
    },
    {
     "data": {
      "text/html": [
       "<div>\n",
       "<style scoped>\n",
       "    .dataframe tbody tr th:only-of-type {\n",
       "        vertical-align: middle;\n",
       "    }\n",
       "\n",
       "    .dataframe tbody tr th {\n",
       "        vertical-align: top;\n",
       "    }\n",
       "\n",
       "    .dataframe thead th {\n",
       "        text-align: right;\n",
       "    }\n",
       "</style>\n",
       "<table border=\"1\" class=\"dataframe\">\n",
       "  <thead>\n",
       "    <tr style=\"text-align: right;\">\n",
       "      <th></th>\n",
       "      <th>max_depth</th>\n",
       "      <th>n_estimators</th>\n",
       "      <th>rmse</th>\n",
       "    </tr>\n",
       "  </thead>\n",
       "  <tbody>\n",
       "    <tr>\n",
       "      <th>0</th>\n",
       "      <td>10</td>\n",
       "      <td>10</td>\n",
       "      <td>0.445596</td>\n",
       "    </tr>\n",
       "    <tr>\n",
       "      <th>1</th>\n",
       "      <td>10</td>\n",
       "      <td>20</td>\n",
       "      <td>0.442033</td>\n",
       "    </tr>\n",
       "    <tr>\n",
       "      <th>2</th>\n",
       "      <td>10</td>\n",
       "      <td>30</td>\n",
       "      <td>0.441392</td>\n",
       "    </tr>\n",
       "    <tr>\n",
       "      <th>3</th>\n",
       "      <td>10</td>\n",
       "      <td>40</td>\n",
       "      <td>0.441541</td>\n",
       "    </tr>\n",
       "    <tr>\n",
       "      <th>4</th>\n",
       "      <td>10</td>\n",
       "      <td>50</td>\n",
       "      <td>0.441120</td>\n",
       "    </tr>\n",
       "    <tr>\n",
       "      <th>...</th>\n",
       "      <td>...</td>\n",
       "      <td>...</td>\n",
       "      <td>...</td>\n",
       "    </tr>\n",
       "    <tr>\n",
       "      <th>75</th>\n",
       "      <td>25</td>\n",
       "      <td>160</td>\n",
       "      <td>0.439070</td>\n",
       "    </tr>\n",
       "    <tr>\n",
       "      <th>76</th>\n",
       "      <td>25</td>\n",
       "      <td>170</td>\n",
       "      <td>0.438917</td>\n",
       "    </tr>\n",
       "    <tr>\n",
       "      <th>77</th>\n",
       "      <td>25</td>\n",
       "      <td>180</td>\n",
       "      <td>0.439082</td>\n",
       "    </tr>\n",
       "    <tr>\n",
       "      <th>78</th>\n",
       "      <td>25</td>\n",
       "      <td>190</td>\n",
       "      <td>0.438973</td>\n",
       "    </tr>\n",
       "    <tr>\n",
       "      <th>79</th>\n",
       "      <td>25</td>\n",
       "      <td>200</td>\n",
       "      <td>0.438963</td>\n",
       "    </tr>\n",
       "  </tbody>\n",
       "</table>\n",
       "<p>80 rows × 3 columns</p>\n",
       "</div>"
      ],
      "text/plain": [
       "    max_depth  n_estimators      rmse\n",
       "0          10            10  0.445596\n",
       "1          10            20  0.442033\n",
       "2          10            30  0.441392\n",
       "3          10            40  0.441541\n",
       "4          10            50  0.441120\n",
       "..        ...           ...       ...\n",
       "75         25           160  0.439070\n",
       "76         25           170  0.438917\n",
       "77         25           180  0.439082\n",
       "78         25           190  0.438973\n",
       "79         25           200  0.438963\n",
       "\n",
       "[80 rows x 3 columns]"
      ]
     },
     "metadata": {},
     "output_type": "display_data"
    }
   ],
   "source": [
    "# Q3\n",
    "from IPython.display import display\n",
    "import matplotlib.pyplot as plt\n",
    "\n",
    "scores = []\n",
    "for d in [10, 15, 20, 25]:\n",
    "    for n in range(10, 201, 10):\n",
    "        print(\"Processing d:%s, n:%s\"%(d,n))\n",
    "        rf = RandomForestRegressor(n_estimators=n, max_depth=d, random_state=1, n_jobs=-1)\n",
    "        rf.fit(X_train, y_train)\n",
    "\n",
    "        y_pred = rf.predict(X_val)\n",
    "        rmse = mean_squared_error(y_val, y_pred , squared=False)\n",
    "        scores.append((d, n,rmse))\n",
    "\n",
    "df_scores = pd.DataFrame(scores, columns=[\"max_depth\",'n_estimators','rmse'])    \n",
    "display(df_scores)\n",
    "\n"
   ]
  },
  {
   "cell_type": "code",
   "execution_count": 19,
   "metadata": {},
   "outputs": [
    {
     "data": {
      "text/plain": [
       "<matplotlib.legend.Legend at 0x7f5d337e5610>"
      ]
     },
     "execution_count": 19,
     "metadata": {},
     "output_type": "execute_result"
    },
    {
     "data": {
      "image/png": "[encoded data removed]",
      "text/plain": [
       "<Figure size 432x288 with 1 Axes>"
      ]
     },
     "metadata": {
      "needs_background": "light"
     },
     "output_type": "display_data"
    }
   ],
   "source": [
    "for d in [10, 15, 20, 25]:\n",
    "    df_sub = df_scores[df_scores.max_depth==d]\n",
    "    plt.plot(df_sub.n_estimators, df_sub.rmse, label=\"d=%s\"%d)\n",
    "    \n",
    "plt.legend()"
   ]
  }
 ],
 "metadata": {
  "kernelspec": {
   "display_name": "Python 3",
   "language": "python",
   "name": "python3"
  },
  "language_info": {
   "codemirror_mode": {
    "name": "ipython",
    "version": 3
   },
   "file_extension": ".py",
   "mimetype": "text/x-python",
   "name": "python",
   "nbconvert_exporter": "python",
   "pygments_lexer": "ipython3",
   "version": "3.8.8"
  }
 },
 "nbformat": 4,
 "nbformat_minor": 4
}
