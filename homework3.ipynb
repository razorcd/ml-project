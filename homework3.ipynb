{
 "cells": [
  {
   "cell_type": "code",
   "execution_count": 4,
   "metadata": {
    "_cell_guid": "b1076dfc-b9ad-4769-8c92-a6c4dae69d19",
    "_uuid": "8f2839f25d086af736a60e9eeb907d3b93b6e0e5",
    "execution": {
     "iopub.execute_input": "2021-09-25T11:08:39.154255Z",
     "iopub.status.busy": "2021-09-25T11:08:39.153932Z",
     "iopub.status.idle": "2021-09-25T11:08:39.348152Z",
     "shell.execute_reply": "2021-09-25T11:08:39.347620Z",
     "shell.execute_reply.started": "2021-09-25T11:08:39.154223Z"
    }
   },
   "outputs": [
    {
     "name": "stdout",
     "output_type": "stream",
     "text": [
      "/home/cristiandugacicu/projects/personal/zoomcamp/AB_NYC_2019.csv.zip\n",
      "/home/cristiandugacicu/projects/personal/zoomcamp/AB_NYC_2019.csv\n",
      "/home/cristiandugacicu/projects/personal/zoomcamp/homework3.ipynb\n",
      "/home/cristiandugacicu/projects/personal/zoomcamp/data.csv\n",
      "/home/cristiandugacicu/projects/personal/zoomcamp/WA_Fn-UseC_-Telco-Customer-Churn.csv\n"
     ]
    }
   ],
   "source": [
    "### This Python 3 environment comes with many helpful analytics libraries installed\n",
    "# It is defined by the kaggle/python Docker image: https://github.com/kaggle/docker-python\n",
    "# For example, here's several helpful packages to load\n",
    "\n",
    "import numpy as np # linear algebra\n",
    "import pandas as pd # data processing, CSV file I/O (e.g. pd.read_csv)\n",
    "\n",
    "# Input data files are available in the read-only \"../input/\" directory\n",
    "# For example, running this (by clicking run or pressing Shift+Enter) will list all files under the input directory\n",
    "\n",
    "import os\n",
    "for dirname, _, filenames in os.walk('/home/cristiandugacicu/projects/personal/zoomcamp'):\n",
    "    for filename in filenames:\n",
    "        print(os.path.join(dirname, filename))\n",
    "\n",
    "# You can write up to 20GB to the current directory (/kaggle/working/) that gets preserved as output when you create a version using \"Save & Run All\" \n",
    "# You can also write temporary files to /kaggle/temp/, but they won't be saved outside of the current session\n",
    "\n",
    "df_raw = pd.read_csv(\"/home/cristiandugacicu/projects/personal/zoomcamp/AB_NYC_2019.csv\")\n",
    "\n",
    "columns = ['neighbourhood_group','room_type','latitude','longitude','price','minimum_nights',\n",
    "            'number_of_reviews','reviews_per_month','calculated_host_listings_count','availability_365']\n",
    "\n",
    "df = df_raw[columns].fillna(0)\n"
   ]
  },
  {
   "cell_type": "code",
   "execution_count": 6,
   "metadata": {
    "execution": {
     "iopub.execute_input": "2021-09-25T11:08:39.349940Z",
     "iopub.status.busy": "2021-09-25T11:08:39.349313Z",
     "iopub.status.idle": "2021-09-25T11:08:39.363840Z",
     "shell.execute_reply": "2021-09-25T11:08:39.362999Z",
     "shell.execute_reply.started": "2021-09-25T11:08:39.349904Z"
    }
   },
   "outputs": [
    {
     "data": {
      "text/plain": [
       "Manhattan        21661\n",
       "Brooklyn         20104\n",
       "Queens            5666\n",
       "Bronx             1091\n",
       "Staten Island      373\n",
       "Name: neighbourhood_group, dtype: int64"
      ]
     },
     "execution_count": 6,
     "metadata": {},
     "output_type": "execute_result"
    }
   ],
   "source": [
    "# Q1\n",
    "df.neighbourhood_group.value_counts()"
   ]
  },
  {
   "cell_type": "code",
   "execution_count": 7,
   "metadata": {
    "execution": {
     "iopub.execute_input": "2021-09-25T11:08:39.365099Z",
     "iopub.status.busy": "2021-09-25T11:08:39.364896Z",
     "iopub.status.idle": "2021-09-25T11:08:39.401418Z",
     "shell.execute_reply": "2021-09-25T11:08:39.400569Z",
     "shell.execute_reply.started": "2021-09-25T11:08:39.365075Z"
    }
   },
   "outputs": [
    {
     "name": "stdout",
     "output_type": "stream",
     "text": [
      "29337 9779 9779\n",
      "Total reccords after train/val/test random repartition: 48895\n"
     ]
    },
    {
     "data": {
      "text/plain": [
       "neighbourhood_group                object\n",
       "room_type                          object\n",
       "latitude                          float64\n",
       "longitude                         float64\n",
       "minimum_nights                      int64\n",
       "number_of_reviews                   int64\n",
       "reviews_per_month                 float64\n",
       "calculated_host_listings_count      int64\n",
       "availability_365                    int64\n",
       "dtype: object"
      ]
     },
     "execution_count": 7,
     "metadata": {},
     "output_type": "execute_result"
    }
   ],
   "source": [
    "# Split the data\n",
    "\n",
    "from sklearn.model_selection import train_test_split\n",
    "\n",
    "df_full_train, df_test = train_test_split(df, test_size=0.2, random_state=42)\n",
    "df_train, df_val = train_test_split(df_full_train, test_size=0.25, random_state=42)\n",
    "print(len(df_train), len(df_val), len(df_test))\n",
    "\n",
    "df_train = df_train.reset_index(drop=\"true\")\n",
    "df_val = df_val.reset_index(drop=\"true\")\n",
    "df_test = df_test.reset_index(drop=\"true\")\n",
    "\n",
    "y_full_train = df_full_train.price.values\n",
    "y_train = df_train.price.values\n",
    "y_val = df_val.price.values\n",
    "y_test = df_test.price.values\n",
    "\n",
    "y_train_log = np.log1p(df_train.price.values)\n",
    "y_val_log = np.log1p(df_val.price.values)\n",
    "y_test_log = np.log1p(df_test.price.values)\n",
    "print(\"Total reccords after train/val/test random repartition:\",len(y_train)+ len(y_val)+ len(y_test))\n",
    "\n",
    "\n",
    "del df_test[\"price\"]\n",
    "del df_val[\"price\"]\n",
    "del df_train[\"price\"]\n",
    "df_train.dtypes"
   ]
  },
  {
   "cell_type": "code",
   "execution_count": 8,
   "metadata": {
    "execution": {
     "iopub.execute_input": "2021-09-25T11:08:39.403590Z",
     "iopub.status.busy": "2021-09-25T11:08:39.403379Z",
     "iopub.status.idle": "2021-09-25T11:08:39.429731Z",
     "shell.execute_reply": "2021-09-25T11:08:39.428872Z",
     "shell.execute_reply.started": "2021-09-25T11:08:39.403564Z"
    }
   },
   "outputs": [
    {
     "data": {
      "text/html": [
       "<div>\n",
       "<style scoped>\n",
       "    .dataframe tbody tr th:only-of-type {\n",
       "        vertical-align: middle;\n",
       "    }\n",
       "\n",
       "    .dataframe tbody tr th {\n",
       "        vertical-align: top;\n",
       "    }\n",
       "\n",
       "    .dataframe thead th {\n",
       "        text-align: right;\n",
       "    }\n",
       "</style>\n",
       "<table border=\"1\" class=\"dataframe\">\n",
       "  <thead>\n",
       "    <tr style=\"text-align: right;\">\n",
       "      <th></th>\n",
       "      <th>latitude</th>\n",
       "      <th>longitude</th>\n",
       "      <th>minimum_nights</th>\n",
       "      <th>number_of_reviews</th>\n",
       "      <th>reviews_per_month</th>\n",
       "      <th>calculated_host_listings_count</th>\n",
       "      <th>availability_365</th>\n",
       "    </tr>\n",
       "  </thead>\n",
       "  <tbody>\n",
       "    <tr>\n",
       "      <th>latitude</th>\n",
       "      <td>1.000000</td>\n",
       "      <td>0.080301</td>\n",
       "      <td>0.027441</td>\n",
       "      <td>-0.006246</td>\n",
       "      <td>-0.007159</td>\n",
       "      <td>0.019375</td>\n",
       "      <td>-0.005891</td>\n",
       "    </tr>\n",
       "    <tr>\n",
       "      <th>longitude</th>\n",
       "      <td>0.080301</td>\n",
       "      <td>1.000000</td>\n",
       "      <td>-0.060660</td>\n",
       "      <td>0.055084</td>\n",
       "      <td>0.134642</td>\n",
       "      <td>-0.117041</td>\n",
       "      <td>0.083666</td>\n",
       "    </tr>\n",
       "    <tr>\n",
       "      <th>minimum_nights</th>\n",
       "      <td>0.027441</td>\n",
       "      <td>-0.060660</td>\n",
       "      <td>1.000000</td>\n",
       "      <td>-0.076020</td>\n",
       "      <td>-0.120703</td>\n",
       "      <td>0.118647</td>\n",
       "      <td>0.138901</td>\n",
       "    </tr>\n",
       "    <tr>\n",
       "      <th>number_of_reviews</th>\n",
       "      <td>-0.006246</td>\n",
       "      <td>0.055084</td>\n",
       "      <td>-0.076020</td>\n",
       "      <td>1.000000</td>\n",
       "      <td>0.590374</td>\n",
       "      <td>-0.073167</td>\n",
       "      <td>0.174477</td>\n",
       "    </tr>\n",
       "    <tr>\n",
       "      <th>reviews_per_month</th>\n",
       "      <td>-0.007159</td>\n",
       "      <td>0.134642</td>\n",
       "      <td>-0.120703</td>\n",
       "      <td>0.590374</td>\n",
       "      <td>1.000000</td>\n",
       "      <td>-0.048767</td>\n",
       "      <td>0.165376</td>\n",
       "    </tr>\n",
       "    <tr>\n",
       "      <th>calculated_host_listings_count</th>\n",
       "      <td>0.019375</td>\n",
       "      <td>-0.117041</td>\n",
       "      <td>0.118647</td>\n",
       "      <td>-0.073167</td>\n",
       "      <td>-0.048767</td>\n",
       "      <td>1.000000</td>\n",
       "      <td>0.225913</td>\n",
       "    </tr>\n",
       "    <tr>\n",
       "      <th>availability_365</th>\n",
       "      <td>-0.005891</td>\n",
       "      <td>0.083666</td>\n",
       "      <td>0.138901</td>\n",
       "      <td>0.174477</td>\n",
       "      <td>0.165376</td>\n",
       "      <td>0.225913</td>\n",
       "      <td>1.000000</td>\n",
       "    </tr>\n",
       "  </tbody>\n",
       "</table>\n",
       "</div>"
      ],
      "text/plain": [
       "                                latitude  longitude  minimum_nights  \\\n",
       "latitude                        1.000000   0.080301        0.027441   \n",
       "longitude                       0.080301   1.000000       -0.060660   \n",
       "minimum_nights                  0.027441  -0.060660        1.000000   \n",
       "number_of_reviews              -0.006246   0.055084       -0.076020   \n",
       "reviews_per_month              -0.007159   0.134642       -0.120703   \n",
       "calculated_host_listings_count  0.019375  -0.117041        0.118647   \n",
       "availability_365               -0.005891   0.083666        0.138901   \n",
       "\n",
       "                                number_of_reviews  reviews_per_month  \\\n",
       "latitude                                -0.006246          -0.007159   \n",
       "longitude                                0.055084           0.134642   \n",
       "minimum_nights                          -0.076020          -0.120703   \n",
       "number_of_reviews                        1.000000           0.590374   \n",
       "reviews_per_month                        0.590374           1.000000   \n",
       "calculated_host_listings_count          -0.073167          -0.048767   \n",
       "availability_365                         0.174477           0.165376   \n",
       "\n",
       "                                calculated_host_listings_count  \\\n",
       "latitude                                              0.019375   \n",
       "longitude                                            -0.117041   \n",
       "minimum_nights                                        0.118647   \n",
       "number_of_reviews                                    -0.073167   \n",
       "reviews_per_month                                    -0.048767   \n",
       "calculated_host_listings_count                        1.000000   \n",
       "availability_365                                      0.225913   \n",
       "\n",
       "                                availability_365  \n",
       "latitude                               -0.005891  \n",
       "longitude                               0.083666  \n",
       "minimum_nights                          0.138901  \n",
       "number_of_reviews                       0.174477  \n",
       "reviews_per_month                       0.165376  \n",
       "calculated_host_listings_count          0.225913  \n",
       "availability_365                        1.000000  "
      ]
     },
     "execution_count": 8,
     "metadata": {},
     "output_type": "execute_result"
    }
   ],
   "source": [
    "#Q2 Corelation matrix\n",
    "\n",
    "numerical = [\"latitude\", \"longitude\", \"minimum_nights\", \"number_of_reviews\", \"reviews_per_month\", \"calculated_host_listings_count\", \"availability_365\"]\n",
    "categorical = [\"neighbourhood_group\", \"room_type\"]\n",
    "\n",
    "from sklearn import metrics\n",
    "\n",
    "# how much do we learn about \"churn\" by observing the \"contract\" variable:\n",
    "df_train[numerical].corr(\"pearson\")\n"
   ]
  },
  {
   "cell_type": "code",
   "execution_count": 9,
   "metadata": {
    "execution": {
     "iopub.execute_input": "2021-09-25T11:08:39.431531Z",
     "iopub.status.busy": "2021-09-25T11:08:39.430969Z",
     "iopub.status.idle": "2021-09-25T11:08:39.515850Z",
     "shell.execute_reply": "2021-09-25T11:08:39.515302Z",
     "shell.execute_reply.started": "2021-09-25T11:08:39.431487Z"
    }
   },
   "outputs": [
    {
     "name": "stdout",
     "output_type": "stream",
     "text": [
      "neighbourhood_group_mutual_score: 0.05 ; room_type_mutual_score: 0.14\n"
     ]
    }
   ],
   "source": [
    "#Q3 \n",
    "\n",
    "df_train[\"above_average\"] = (y_train>=152).astype('int')\n",
    "y_train_binary = df_train.above_average.values\n",
    "y_val_binary = (y_val>=152).astype(\"int\")\n",
    "\n",
    "from sklearn import metrics\n",
    "\n",
    "# how much do we learn about \"churn\" by observing the \"contract\" variable:\n",
    "neighbourhood_group_mutual_score = metrics.mutual_info_score(df_train.above_average, df_train.neighbourhood_group)\n",
    "room_type_mutual_score = metrics.mutual_info_score(df_train.above_average, df_train.room_type)\n",
    "print(\"neighbourhood_group_mutual_score:\",round(neighbourhood_group_mutual_score,2),\"; room_type_mutual_score:\",round(room_type_mutual_score,2))\n"
   ]
  },
  {
   "cell_type": "code",
   "execution_count": 10,
   "metadata": {
    "execution": {
     "iopub.execute_input": "2021-09-25T11:08:39.517436Z",
     "iopub.status.busy": "2021-09-25T11:08:39.516784Z",
     "iopub.status.idle": "2021-09-25T11:08:40.134002Z",
     "shell.execute_reply": "2021-09-25T11:08:40.130364Z",
     "shell.execute_reply.started": "2021-09-25T11:08:39.517388Z"
    }
   },
   "outputs": [
    {
     "data": {
      "text/plain": [
       "'Training model for features:'"
      ]
     },
     "metadata": {},
     "output_type": "display_data"
    },
    {
     "data": {
      "text/plain": [
       "['neighbourhood_group=Bronx',\n",
       " 'neighbourhood_group=Brooklyn',\n",
       " 'neighbourhood_group=Manhattan',\n",
       " 'neighbourhood_group=Queens',\n",
       " 'neighbourhood_group=Staten Island',\n",
       " 'room_type=Entire home/apt',\n",
       " 'room_type=Private room',\n",
       " 'room_type=Shared room']"
      ]
     },
     "metadata": {},
     "output_type": "display_data"
    },
    {
     "name": "stdout",
     "output_type": "stream",
     "text": [
      "\n",
      "Model accuracy based on val data: 0.781\n"
     ]
    }
   ],
   "source": [
    "# Q4\n",
    "\n",
    "from sklearn.feature_extraction import DictVectorizer\n",
    "from sklearn import linear_model\n",
    "\n",
    "\n",
    "def train_model_with(dv, dataFrame, y):\n",
    "    dicts = dataFrame.to_dict(orient=\"records\")\n",
    "    X = dv.fit_transform(dicts)\n",
    "    display(\"Training model for features:\",dv.feature_names_)\n",
    "\n",
    "    model = linear_model.LogisticRegression(solver='lbfgs', C=1.0, random_state=42)\n",
    "    model.fit(X, y)\n",
    "    return model\n",
    "\n",
    "dv = DictVectorizer(sparse=False)\n",
    "\n",
    "train_model = train_model_with(dv, df_train[categorical], y_train_binary)\n",
    "\n",
    "#accuracy on val dataset:\n",
    "dicts_val = df_val[categorical].to_dict(orient=\"records\")\n",
    "dv_val = DictVectorizer(sparse=False)\n",
    "dv_val.fit(dicts_val)\n",
    "X_val = dv_val.transform(dicts_val)\n",
    "y_val_probability = train_model.predict_proba(X_val)[:,1]\n",
    "# churn_decision = (y_pred >= 0.5)\n",
    "y_val_probability\n",
    "# print(\"Model accuracy based on test data:\", (y_pred == y_test).mean())\n",
    "\n",
    "above_average_prce_probability = (y_val_probability>=0.5).astype(\"int\")\n",
    "\n",
    "accuracy = (above_average_prce_probability == y_val_binary).mean()\n",
    "print()\n",
    "print(\"Model accuracy based on val data:\", round(accuracy,3))\n",
    "\n"
   ]
  },
  {
   "cell_type": "code",
   "execution_count": 11,
   "metadata": {
    "execution": {
     "iopub.execute_input": "2021-09-25T11:08:40.135775Z",
     "iopub.status.busy": "2021-09-25T11:08:40.135437Z",
     "iopub.status.idle": "2021-09-25T11:08:40.142468Z",
     "shell.execute_reply": "2021-09-25T11:08:40.141626Z",
     "shell.execute_reply.started": "2021-09-25T11:08:40.135734Z"
    }
   },
   "outputs": [
    {
     "data": {
      "text/plain": [
       "'0.24.1'"
      ]
     },
     "execution_count": 11,
     "metadata": {},
     "output_type": "execute_result"
    }
   ],
   "source": [
    "email = \"35a89bd1cf9dc20f4a30d70cadf18c60942dfaff\"\n",
    "import sklearn\n",
    "sklearn.__version__"
   ]
  },
  {
   "cell_type": "code",
   "execution_count": 16,
   "metadata": {
    "execution": {
     "iopub.execute_input": "2021-09-25T11:08:40.144128Z",
     "iopub.status.busy": "2021-09-25T11:08:40.143826Z",
     "iopub.status.idle": "2021-09-25T11:08:51.249809Z",
     "shell.execute_reply": "2021-09-25T11:08:51.248728Z",
     "shell.execute_reply.started": "2021-09-25T11:08:40.144089Z"
    }
   },
   "outputs": [
    {
     "name": "stdout",
     "output_type": "stream",
     "text": [
      "Model accuracy based on val data without: 0.79\n",
      "Model accuracy based on val data without neighbourhood_group : 0.75\n",
      "Model accuracy based on val data without room_type : 0.73\n",
      "Model accuracy based on val data without latitude : 0.79\n",
      "Model accuracy based on val data without longitude : 0.79\n",
      "Model accuracy based on val data without minimum_nights : 0.79\n",
      "Model accuracy based on val data without number_of_reviews : 0.79\n",
      "Model accuracy based on val data without reviews_per_month : 0.79\n",
      "Model accuracy based on val data without calculated_host_listings_count : 0.79\n",
      "Model accuracy based on val data without availability_365 : 0.78\n"
     ]
    }
   ],
   "source": [
    "# Q5\n",
    "\n",
    "from sklearn.feature_extraction import DictVectorizer\n",
    "from sklearn import linear_model\n",
    "\n",
    "\n",
    "def train_model_with(dv, dataFrame, y):\n",
    "    dicts = dataFrame.to_dict(orient=\"records\")\n",
    "    X = dv.fit_transform(dicts)\n",
    "#     display(\"Training model for features:\",dv.feature_names_)\n",
    "\n",
    "    model = linear_model.LogisticRegression(solver='lbfgs', C=1.0, random_state=42, max_iter=10000)\n",
    "    model.fit(X, y)\n",
    "    return model\n",
    "\n",
    "def get_accuracy(dv1, model, df, y):\n",
    "    dicts_val1 = df.to_dict(orient=\"records\")\n",
    "    X_val1 = dv1.fit_transform(dicts_val1)\n",
    "    y_val_probability1 = model.predict_proba(X_val1)[:,1]\n",
    "\n",
    "    above_average_prce_probability1 = (y_val_probability1>=0.5).astype(\"int\")\n",
    "\n",
    "    accuracy1 = (above_average_prce_probability1 == y).mean()\n",
    "    return accuracy1\n",
    "\n",
    "dv5 = DictVectorizer(sparse=False)\n",
    "train_model_all_features = train_model_with(dv5, df_train[categorical+numerical], y_train_binary)\n",
    "accuracy0 = get_accuracy(dv5, train_model_all_features, df_val[categorical+numerical], y_val_binary)\n",
    "print(\"Model accuracy based on val data without:\", round(accuracy0,2))\n",
    "\n",
    "for c in (categorical + numerical):\n",
    "    dvC = DictVectorizer(sparse=False)\n",
    "    new_list = categorical + numerical\n",
    "    new_list.remove(c)\n",
    "    modelC = train_model_with(dvC, df_train[new_list], y_train_binary)\n",
    "    \n",
    "    #accuracy on val dataset:\n",
    "    accuracy1 = get_accuracy(dvC, modelC, df_val[new_list], y_val_binary)\n",
    "    print(\"Model accuracy based on val data without\",c,\":\", round(accuracy1,2))\n",
    "\n",
    "# 29337 9779 9779"
   ]
  },
  {
   "cell_type": "code",
   "execution_count": 17,
   "metadata": {
    "execution": {
     "iopub.execute_input": "2021-09-25T11:08:51.251634Z",
     "iopub.status.busy": "2021-09-25T11:08:51.251287Z",
     "iopub.status.idle": "2021-09-25T11:08:56.262465Z",
     "shell.execute_reply": "2021-09-25T11:08:56.261385Z",
     "shell.execute_reply.started": "2021-09-25T11:08:51.251580Z"
    }
   },
   "outputs": [
    {
     "name": "stdout",
     "output_type": "stream",
     "text": [
      "RMSE on linear regression model with alpha: 0 is: 0.497\n",
      "RMSE on linear regression model with alpha: 0.01 is: 0.497\n",
      "RMSE on linear regression model with alpha: 0.1 is: 0.497\n",
      "RMSE on linear regression model with alpha: 1 is: 0.497\n",
      "RMSE on linear regression model with alpha: 10 is: 0.498\n"
     ]
    }
   ],
   "source": [
    "#Q6 Linear regression\n",
    "\n",
    "def train_linear_regression_model(dv, dataFrame, y, alpha):\n",
    "    dicts = dataFrame.to_dict(orient=\"records\")\n",
    "    X = dv.fit_transform(dicts)\n",
    "\n",
    "    model = linear_model.Ridge(alpha=alpha)\n",
    "    model.fit(X, y)\n",
    "    return model\n",
    "\n",
    "def get_prediction(dv1, model, df):\n",
    "    dicts_val1 = df.to_dict(orient=\"records\")\n",
    "    X_val1 = dv1.fit_transform(dicts_val1)\n",
    "    y_val_predict = model.predict(X_val1)\n",
    "#     y_val_final_price_predicted = np.expm1(y_val_predict)\n",
    "    return y_val_predict;\n",
    "\n",
    "def rmse(y, y_pred):\n",
    "    error = y-y_pred\n",
    "    se = error ** 2\n",
    "    mse = se.mean()\n",
    "    return np.sqrt(mse)\n",
    "\n",
    "\n",
    "for alpha in [0, 0.01, 0.1, 1, 10]:\n",
    "    dv6 = DictVectorizer(sparse=False)\n",
    "    linear_regression_model = train_linear_regression_model(dv6, df_train[categorical+numerical], y_train_log, alpha)\n",
    "    y_val_log_Predicted = get_prediction(dv6, linear_regression_model, df_val[categorical+numerical])\n",
    "    print(\"RMSE on linear regression model with alpha:\",alpha,\"is:\", round(rmse(y_val_log, y_val_log_Predicted),3))\n"
   ]
  }
 ],
 "metadata": {
  "kernelspec": {
   "display_name": "Python 3",
   "language": "python",
   "name": "python3"
  },
  "language_info": {
   "codemirror_mode": {
    "name": "ipython",
    "version": 3
   },
   "file_extension": ".py",
   "mimetype": "text/x-python",
   "name": "python",
   "nbconvert_exporter": "python",
   "pygments_lexer": "ipython3",
   "version": "3.8.8"
  }
 },
 "nbformat": 4,
 "nbformat_minor": 4
}
