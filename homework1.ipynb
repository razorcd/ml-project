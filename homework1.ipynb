{
 "cells": [
  {
   "cell_type": "code",
   "execution_count": 1,
   "id": "b428fbb7",
   "metadata": {
    "_cell_guid": "b1076dfc-b9ad-4769-8c92-a6c4dae69d19",
    "_uuid": "8f2839f25d086af736a60e9eeb907d3b93b6e0e5",
    "execution": {
     "iopub.execute_input": "2021-09-14T18:39:38.575741Z",
     "iopub.status.busy": "2021-09-14T18:39:38.574503Z",
     "iopub.status.idle": "2021-09-14T18:39:38.691943Z",
     "shell.execute_reply": "2021-09-14T18:39:38.690815Z",
     "shell.execute_reply.started": "2021-09-14T18:37:40.683861Z"
    },
    "papermill": {
     "duration": 0.125065,
     "end_time": "2021-09-14T18:39:38.692245",
     "exception": false,
     "start_time": "2021-09-14T18:39:38.567180",
     "status": "completed"
    },
    "tags": []
   },
   "outputs": [
    {
     "name": "stdout",
     "output_type": "stream",
     "text": [
      "/kaggle/input/carprices/data.csv\n",
      "\n",
      "1\n",
      "Numpy version:  1.19.5\n",
      "2\n",
      "Pandas version:  1.3.2\n",
      "3\n",
      "Average price:  40594.737032063116\n",
      "4\n",
      "Cars after 2015 without HP: 51\n",
      "5\n",
      "Average HP:  249\n",
      "Average HP after fillna:  249\n",
      "6\n",
      "Sum(x)= 0.032212320677486125\n",
      "7\n",
      "First elem of w:  0.19989598183188972\n"
     ]
    }
   ],
   "source": [
    "# This Python 3 environment comes with many helpful analytics libraries installed\n",
    "# It is defined by the kaggle/python Docker image: https://github.com/kaggle/docker-python\n",
    "# For example, here's several helpful packages to load\n",
    "\n",
    "import numpy as np # linear algebra\n",
    "import pandas as pd # data processing, CSV file I/O (e.g. pd.read_csv)\n",
    "\n",
    "# Input data files are available in the read-only \"../input/\" directory\n",
    "# For example, running this (by clicking run or pressing Shift+Enter) will list all files under the input directory\n",
    "\n",
    "import os\n",
    "for dirname, _, filenames in os.walk('/kaggle/input'):\n",
    "    for filename in filenames:\n",
    "        print(os.path.join(dirname, filename))\n",
    "\n",
    "# You can write up to 20GB to the current directory (/kaggle/working/) that gets preserved as output when you create a version using \"Save & Run All\" \n",
    "# You can also write temporary files to /kaggle/temp/, but they won't be saved outside of the current session\n",
    "print()\n",
    "\n",
    "data = pd.read_csv(\"/kaggle/input/carprices/data.csv\")\n",
    "# data.info()\n",
    "\n",
    "print(1)\n",
    "print('Numpy version: ', np.__version__)\n",
    "\n",
    "print(2)\n",
    "print('Pandas version: ', pd.__version__)\n",
    "\n",
    "print(3)\n",
    "print('Average price: ', data['MSRP'].mean())\n",
    "\n",
    "print(4)\n",
    "newCarsWithoutHp = data[(data['Year']>=2015) & (data['Engine HP'].isnull())]\n",
    "print('Cars after 2015 without HP:',len(newCarsWithoutHp.index))\n",
    "\n",
    "print(5)\n",
    "meanHp = data['Engine HP'].mean()\n",
    "print('Average HP: ', round(meanHp))\n",
    "fillHpData = data['Engine HP'].fillna(meanHp)\n",
    "print('Average HP after fillna: ', round(fillHpData.mean()))\n",
    "\n",
    "print(6)\n",
    "condition = data.Make==\"Rolls-Royce\"\n",
    "rrCarsNoDup = data[condition][[\"Engine HP\", \"Engine Cylinders\", \"highway MPG\"]].drop_duplicates()\n",
    "X = rrCarsNoDup.to_numpy()  # or .values\n",
    "XTX = X.T.dot(X) # np.dot(rrCarsNoDupNP.T, rrCarsNoDupNP)\n",
    "invXTX = np.linalg.inv(XTX)\n",
    "print(\"Sum(x)=\", invXTX.sum())\n",
    "\n",
    "print(7)\n",
    "y = [1000, 1100, 900, 1200, 1000, 850, 1300]\n",
    "w = invXTX.dot(X.T).dot(y)\n",
    "print(\"First elem of w: \", w[0])"
   ]
  }
 ],
 "metadata": {
  "kernelspec": {
   "display_name": "Python 3",
   "language": "python",
   "name": "python3"
  },
  "language_info": {
   "codemirror_mode": {
    "name": "ipython",
    "version": 3
   },
   "file_extension": ".py",
   "mimetype": "text/x-python",
   "name": "python",
   "nbconvert_exporter": "python",
   "pygments_lexer": "ipython3",
   "version": "3.7.10"
  },
  "papermill": {
   "default_parameters": {},
   "duration": 10.794651,
   "end_time": "2021-09-14T18:39:40.293721",
   "environment_variables": {},
   "exception": null,
   "input_path": "__notebook__.ipynb",
   "output_path": "__notebook__.ipynb",
   "parameters": {},
   "start_time": "2021-09-14T18:39:29.499070",
   "version": "2.3.3"
  }
 },
 "nbformat": 4,
 "nbformat_minor": 5
}
