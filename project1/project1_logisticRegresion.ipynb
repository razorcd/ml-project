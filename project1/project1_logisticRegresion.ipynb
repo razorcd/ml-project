{
 "cells": [
  {
   "cell_type": "code",
   "execution_count": 1,
   "id": "169bf44d",
   "metadata": {},
   "outputs": [
    {
     "ename": "SyntaxError",
     "evalue": "invalid syntax (<ipython-input-1-2f7628696289>, line 3)",
     "output_type": "error",
     "traceback": [
      "\u001b[0;36m  File \u001b[0;32m\"<ipython-input-1-2f7628696289>\"\u001b[0;36m, line \u001b[0;32m3\u001b[0m\n\u001b[0;31m    from ipynb.fs.full.project1-prepareData import *\u001b[0m\n\u001b[0m                               ^\u001b[0m\n\u001b[0;31mSyntaxError\u001b[0m\u001b[0;31m:\u001b[0m invalid syntax\n"
     ]
    }
   ],
   "source": [
    "# import the project1-prepareData notebook:\n",
    "!pip install ipynb\n",
    "from ipynb.fs.full.project1_prepareData import *\n",
    "\n",
    "\n",
    "import numpy as np # linear algebra\n",
    "import pandas as pd # data processing, CSV file I/O (e.g. pd.read_csv)\n"
   ]
  },
  {
   "cell_type": "code",
   "execution_count": null,
   "id": "23592696",
   "metadata": {},
   "outputs": [],
   "source": [
    "# Filter bad rows to include only relevant data that would make the AUC higher.\n",
    "# We will also use only USA records because it contains 30162 rows and it's more levant for an average income of $50k\n",
    "# We are trying different columns to find best combination to get a more accurate model.\n",
    "\n",
    "categorical_columns_selected = [\n",
    "    'workclass', # Private, Self-emp-not-inc, Self-emp-inc, Federal-gov, Local-gov, State-gov, Without-pay, Never-worked.\n",
    "    'education', # Bachelors, Some-college, 11th, HS-grad, Prof-school, Assoc-acdm, Assoc-voc, 9th, 7th-8th, 12th, Masters, 1st-4th, 10th, Doctorate, 5th-6th, Preschool.\n",
    "    'marital-status', # Married-civ-spouse, Divorced, Never-married, Separated, Widowed, Married-spouse-absent, Married-AF-spouse.\n",
    "    'occupation', # Tech-support, Craft-repair, Other-service, Sales, Exec-managerial, Prof-specialty, Handlers-cleaners, Machine-op-inspct, Adm-clerical, Farming-fishing, Transport-moving, Priv-house-serv, Protective-serv, Armed-Forces.\n",
    "    'relationship', # Wife, Own-child, Husband, Not-in-family, Other-relative, Unmarried.\n",
    "    'race', # White, Asian-Pac-Islander, Amer-Indian-Eskimo, Other, Black.\n",
    "    'sex', # Female, Male.\n",
    "#     'native-country', # United-States, Cambodia, England, Puerto-Rico, Canada, Germany, Outlying-US(Guam-USVI-etc), India, Japan, Greece, South, China, Cuba, Iran, Honduras, Philippines, Italy, Poland, Jamaica, Vietnam, Mexico, Portugal, Ireland, France, Dominican-Republic, Laos, Ecuador, Taiwan, Haiti, Columbia, Hungary, Guatemala, Nicaragua, Scotland, Thailand, Yugoslavia, El-Salvador, Trinadad&Tobago, Peru, Hong, Holand-Netherlands\n",
    "]\n",
    "numerical_columns_selected = [\n",
    "    'age', # continuous.\n",
    "#     'fnlwgt', # continuous. final weight based on Gov CPS data\n",
    "    'education-num', # continuous.\n",
    "#     'capital-gain', # continuous.\n",
    "#     'capital-loss', # continuous.\n",
    "    'hours-per-week', # continuous.\n",
    "]\n",
    "\n",
    "y_column = 'income'\n",
    "\n",
    "\n",
    "#Trying to reduce the education types lower than highscool but AUC didn't increase\n",
    "\n",
    "# 'Assoc-acdm', 'Assoc-voc', 'Preschool'\n",
    "# education_compact = ['11th', '9th', '7th-8th', '12th', '1st-4th', '10th', '5th-6th']\n",
    "# df_clean.education.replace(dict.fromkeys(education_compact, 'pre-high-school'), inplace=True)\n",
    "# df_clean[\"low-education\"]  = df_clean.education.isin(education1)\n",
    "\n",
    "#Filtering only USA data\n",
    "df_clean_filtered = df_clean.copy()\n",
    "df_clean_filtered = df_clean_filtered[df_clean_filtered['native-country'] == 'United-States']\n",
    "# df_clean_filtered = df_clean_filtered[df_clean_filtered['education'] != 'Preschool']\n",
    "df_clean_filtered = df_clean_filtered[categorical_columns_selected+numerical_columns_selected+['low_income']]\n",
    "display(\"Selected data:\", df_clean_filtered)\n"
   ]
  },
  {
   "cell_type": "code",
   "execution_count": null,
   "id": "1c9e6605",
   "metadata": {},
   "outputs": [],
   "source": [
    "# Split data\n",
    "\n",
    "from sklearn.model_selection import train_test_split\n",
    "\n",
    "df_full_train, df_test = train_test_split(df_clean_filtered, test_size=0.2, random_state=11)\n",
    "df_train,  df_val = train_test_split(df_full_train, test_size=0.25, random_state=11)\n",
    "\n",
    "df_train = df_train.reset_index(drop=True)\n",
    "df_val = df_val.reset_index(drop=True)\n",
    "df_test = df_test.reset_index(drop=True)\n",
    "\n",
    "y_train = (df_train.low_income == True).astype('int').values\n",
    "y_val = (df_val.low_income == True).astype('int').values\n",
    "y_test = (df_test.low_income == True).astype('int').values\n",
    "\n",
    "del df_train[\"low_income\"]\n",
    "del df_val[\"low_income\"]\n",
    "del df_test[\"low_income\"]\n",
    "\n",
    "# with pd.option_context('display.max_rows', 2, 'display.max_columns', None): \n",
    "#     display(df_test)   \n",
    "    \n",
    "print(\"df_train length: \", len(df_train))\n",
    "print(\"df_val length: \", len(df_val))\n",
    "print(\"df_test length: \", len(df_test))\n",
    "\n",
    "print(\"y_train length: \", len(y_train))\n",
    "print(\"y_val length: \", len(y_val))\n",
    "print(\"y_test length: \", len(y_test))\n"
   ]
  },
  {
   "cell_type": "code",
   "execution_count": null,
   "id": "ae329312",
   "metadata": {},
   "outputs": [],
   "source": []
  },
  {
   "cell_type": "code",
   "execution_count": 2,
   "id": "41cce1aa",
   "metadata": {},
   "outputs": [
    {
     "ename": "NameError",
     "evalue": "name 'df_val' is not defined",
     "output_type": "error",
     "traceback": [
      "\u001b[0;31m---------------------------------------------------------------------------\u001b[0m",
      "\u001b[0;31mNameError\u001b[0m                                 Traceback (most recent call last)",
      "\u001b[0;32m<ipython-input-2-a1cb8839b257>\u001b[0m in \u001b[0;36m<module>\u001b[0;34m\u001b[0m\n\u001b[1;32m     15\u001b[0m \u001b[0;34m\u001b[0m\u001b[0m\n\u001b[1;32m     16\u001b[0m \u001b[0;34m\u001b[0m\u001b[0m\n\u001b[0;32m---> 17\u001b[0;31m \u001b[0mdv\u001b[0m\u001b[0;34m,\u001b[0m \u001b[0mmodel\u001b[0m \u001b[0;34m=\u001b[0m \u001b[0mtrain\u001b[0m\u001b[0;34m(\u001b[0m\u001b[0mdf_val\u001b[0m\u001b[0;34m,\u001b[0m \u001b[0my_val\u001b[0m\u001b[0;34m)\u001b[0m\u001b[0;34m\u001b[0m\u001b[0;34m\u001b[0m\u001b[0m\n\u001b[0m\u001b[1;32m     18\u001b[0m \u001b[0mweights\u001b[0m \u001b[0;34m=\u001b[0m \u001b[0mmodel\u001b[0m\u001b[0;34m.\u001b[0m\u001b[0mcoef_\u001b[0m\u001b[0;34m[\u001b[0m\u001b[0;36m0\u001b[0m\u001b[0;34m]\u001b[0m\u001b[0;34m.\u001b[0m\u001b[0mround\u001b[0m\u001b[0;34m(\u001b[0m\u001b[0;36m3\u001b[0m\u001b[0;34m)\u001b[0m \u001b[0;31m# weights\u001b[0m\u001b[0;34m\u001b[0m\u001b[0;34m\u001b[0m\u001b[0m\n\u001b[1;32m     19\u001b[0m \u001b[0mw0\u001b[0m \u001b[0;34m=\u001b[0m \u001b[0mmodel\u001b[0m\u001b[0;34m.\u001b[0m\u001b[0mintercept_\u001b[0m \u001b[0;31m# bias, w0\u001b[0m\u001b[0;34m\u001b[0m\u001b[0;34m\u001b[0m\u001b[0m\n",
      "\u001b[0;31mNameError\u001b[0m: name 'df_val' is not defined"
     ]
    }
   ],
   "source": [
    "#Hot encoding and Logistic regretion\n",
    "from sklearn import linear_model\n",
    "from sklearn.feature_extraction import DictVectorizer\n",
    "\n",
    "def train(dataFrame, y):\n",
    "    # Hot Encoding\n",
    "    dicts = dataFrame.to_dict(orient=\"records\")\n",
    "    dv = DictVectorizer(sparse=False)\n",
    "    X = dv.fit_transform(dicts)\n",
    "\n",
    "    # train\n",
    "    model = linear_model.LogisticRegression()\n",
    "    model.fit(X, y)\n",
    "    return dv, model\n",
    "\n",
    "\n",
    "dv, model = train(df_val, y_val)\n",
    "weights = model.coef_[0].round(3) # weights\n",
    "w0 = model.intercept_ # bias, w0\n",
    "\n",
    "weights_with_featureNames = dict(zip(dv.get_feature_names(), weights))\n",
    "print(\"w0 =\", w0)\n",
    "# display(weights_with_featureNames)\n",
    "display(pd.DataFrame([weights], index=[\"weight\"], columns=dv.get_feature_names()))\n",
    "\n"
   ]
  },
  {
   "cell_type": "code",
   "execution_count": null,
   "id": "4075b386",
   "metadata": {},
   "outputs": [],
   "source": [
    "# Predict\n",
    "\n",
    "def predict(dataFrame, dv, model):\n",
    "    dicts = dataFrame.to_dict(orient=\"records\")\n",
    "    X = dv.transform(dicts)\n",
    "    y_pred = model.predict_proba(X)[:,1]\n",
    "    return y_pred\n",
    "\n",
    "\n",
    "proba = predict(df_val, dv, model)\n",
    "y_pred_val = proba  #take column 1\n",
    "\n",
    "low_salary_pred = (y_pred_val >= 0.5)\n",
    "# customers_with_predicted_low_income = df_val[low_salary_pred]"
   ]
  },
  {
   "cell_type": "code",
   "execution_count": null,
   "id": "d4985496",
   "metadata": {},
   "outputs": [],
   "source": [
    "# Check accuracy\n",
    "\n",
    "#check average accuracy on y_val\n",
    "df_pred = pd.DataFrame()\n",
    "df_pred[\"probability\"] = y_pred_val\n",
    "df_pred[\"prediction\"] = low_salary_pred.astype(int)\n",
    "df_pred[\"actual\"] = y_val\n",
    "df_pred[\"prediction_correct\"] = df_pred.prediction == df_pred.actual\n",
    "display(df_pred)\n",
    "print(\"Accuracy % on y_val:\",df_pred.prediction_correct.mean())"
   ]
  },
  {
   "cell_type": "code",
   "execution_count": null,
   "id": "d91075ae",
   "metadata": {},
   "outputs": [],
   "source": [
    "# AUC and ROC curve\n",
    "\n",
    "from sklearn import metrics\n",
    "\n",
    "fpr, tpr, thresholds = metrics.roc_curve(y_val, y_pred_val)\n",
    "auc = metrics.auc(fpr, tpr)\n",
    "\n",
    "# print(\"thresholds:\", thresholds)\n",
    "print(\"AUC for LogisticRegresion:\", auc)\n",
    "\n",
    "\n",
    "\n",
    "import matplotlib.pyplot as plt\n",
    "from sklearn import datasets, model_selection, svm\n",
    "\n",
    "dicts = df_val.to_dict(orient=\"records\")\n",
    "X_val = dv.transform(dicts)\n",
    "print(\"ROC curve:\")\n",
    "metrics.plot_roc_curve(model, X_val, y_val) \n",
    "plt.show()\n"
   ]
  }
 ],
 "metadata": {
  "kernelspec": {
   "display_name": "Python 3",
   "language": "python",
   "name": "python3"
  },
  "language_info": {
   "codemirror_mode": {
    "name": "ipython",
    "version": 3
   },
   "file_extension": ".py",
   "mimetype": "text/x-python",
   "name": "python",
   "nbconvert_exporter": "python",
   "pygments_lexer": "ipython3",
   "version": "3.8.8"
  }
 },
 "nbformat": 4,
 "nbformat_minor": 5
}
