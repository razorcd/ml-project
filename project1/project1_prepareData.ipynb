{
 "cells": [
  {
   "cell_type": "code",
   "execution_count": null,
   "id": "169bf44d",
   "metadata": {},
   "outputs": [],
   "source": [
    "#List files\n",
    "\n",
    "import numpy as np # linear algebra\n",
    "import pandas as pd # data processing, CSV file I/O (e.g. pd.read_csv)\n",
    "import os\n",
    "\n",
    "for dirname, _, filenames in os.walk('.'):\n",
    "    for filename in filenames:\n",
    "        print(os.path.join(dirname, filename))"
   ]
  },
  {
   "cell_type": "code",
   "execution_count": null,
   "id": "34aab98d",
   "metadata": {},
   "outputs": [],
   "source": [
    "# Load data\n",
    "\n",
    "df = pd.read_csv(\"./adult.data\", header=None)\n",
    "columns = [\n",
    "    'age', # continuous.\n",
    "    'workclass', # Private, Self-emp-not-inc, Self-emp-inc, Federal-gov, Local-gov, State-gov, Without-pay, Never-worked.\n",
    "    'fnlwgt', # continuous. final weight based on Gov CPS data\n",
    "    'education', # Bachelors, Some-college, 11th, HS-grad, Prof-school, Assoc-acdm, Assoc-voc, 9th, 7th-8th, 12th, Masters, 1st-4th, 10th, Doctorate, 5th-6th, Preschool.\n",
    "    'education-num', # continuous.\n",
    "    'marital-status', # Married-civ-spouse, Divorced, Never-married, Separated, Widowed, Married-spouse-absent, Married-AF-spouse.\n",
    "    'occupation', # Tech-support, Craft-repair, Other-service, Sales, Exec-managerial, Prof-specialty, Handlers-cleaners, Machine-op-inspct, Adm-clerical, Farming-fishing, Transport-moving, Priv-house-serv, Protective-serv, Armed-Forces.\n",
    "    'relationship', # Wife, Own-child, Husband, Not-in-family, Other-relative, Unmarried.\n",
    "    'race', # White, Asian-Pac-Islander, Amer-Indian-Eskimo, Other, Black.\n",
    "    'sex', # Female, Male.\n",
    "    'capital-gain', # continuous.\n",
    "    'capital-loss', # continuous.\n",
    "    'hours-per-week', # continuous.\n",
    "    'native-country', # United-States, Cambodia, England, Puerto-Rico, Canada, Germany, Outlying-US(Guam-USVI-etc), India, Japan, Greece, South, China, Cuba, Iran, Honduras, Philippines, Italy, Poland, Jamaica, Vietnam, Mexico, Portugal, Ireland, France, Dominican-Republic, Laos, Ecuador, Taiwan, Haiti, Columbia, Hungary, Guatemala, Nicaragua, Scotland, Thailand, Yugoslavia, El-Salvador, Trinadad&Tobago, Peru, Hong, Holand-Netherlands\n",
    "    'income'\n",
    "]\n",
    "df.columns = columns\n",
    "\n",
    "# df.columns = df.columns.str.lower()\n",
    "\n",
    "with pd.option_context('display.max_rows', 6, 'display.max_columns', None): \n",
    "    display(df)    \n"
   ]
  },
  {
   "cell_type": "code",
   "execution_count": null,
   "id": "a1869506",
   "metadata": {},
   "outputs": [],
   "source": [
    "# Prepare columns\n",
    "\n",
    "categorical_columns = [\n",
    "    'workclass', # Private, Self-emp-not-inc, Self-emp-inc, Federal-gov, Local-gov, State-gov, Without-pay, Never-worked.\n",
    "    'education', # Bachelors, Some-college, 11th, HS-grad, Prof-school, Assoc-acdm, Assoc-voc, 9th, 7th-8th, 12th, Masters, 1st-4th, 10th, Doctorate, 5th-6th, Preschool.\n",
    "    'marital-status', # Married-civ-spouse, Divorced, Never-married, Separated, Widowed, Married-spouse-absent, Married-AF-spouse.\n",
    "    'occupation', # Tech-support, Craft-repair, Other-service, Sales, Exec-managerial, Prof-specialty, Handlers-cleaners, Machine-op-inspct, Adm-clerical, Farming-fishing, Transport-moving, Priv-house-serv, Protective-serv, Armed-Forces.\n",
    "    'relationship', # Wife, Own-child, Husband, Not-in-family, Other-relative, Unmarried.\n",
    "    'race', # White, Asian-Pac-Islander, Amer-Indian-Eskimo, Other, Black.\n",
    "    'sex', # Female, Male.\n",
    "    'native-country', # United-States, Cambodia, England, Puerto-Rico, Canada, Germany, Outlying-US(Guam-USVI-etc), India, Japan, Greece, South, China, Cuba, Iran, Honduras, Philippines, Italy, Poland, Jamaica, Vietnam, Mexico, Portugal, Ireland, France, Dominican-Republic, Laos, Ecuador, Taiwan, Haiti, Columbia, Hungary, Guatemala, Nicaragua, Scotland, Thailand, Yugoslavia, El-Salvador, Trinadad&Tobago, Peru, Hong, Holand-Netherlands\n",
    "]\n",
    "numerical_columns = [\n",
    "    'age', # continuous.\n",
    "    'fnlwgt', # continuous. final weight based on Gov CPS data\n",
    "    'education-num', # continuous.\n",
    "    'capital-gain', # continuous.\n",
    "    'capital-loss', # continuous.\n",
    "    'hours-per-week', # continuous.\n",
    "]\n",
    "\n",
    "y_column = 'income'\n",
    "\n",
    "df.info()"
   ]
  },
  {
   "cell_type": "code",
   "execution_count": null,
   "id": "914e3fd9",
   "metadata": {},
   "outputs": [],
   "source": [
    "#Check data\n",
    "\n",
    "#trim all categorical fields\n",
    "for column in categorical_columns:\n",
    "    df[column] = df[column].str.strip()\n",
    "\n",
    "isnull_count = pd.DataFrame(df.isnull().sum(), columns=[\"isnull count\"])\n",
    "isna_count = pd.DataFrame(df.isna().sum(), columns=[\"isna count\"])\n",
    "isin_count = pd.DataFrame(df.isin([\"NaN\", \"-\", \"\", \".\", \"_\", \"?\"]).sum(), columns=[\"isin count\"])\n",
    "pd.concat([isnull_count, isna_count, isin_count], axis=1)\n",
    "\n"
   ]
  },
  {
   "cell_type": "code",
   "execution_count": null,
   "id": "a7f32a75",
   "metadata": {},
   "outputs": [],
   "source": []
  },
  {
   "cell_type": "code",
   "execution_count": null,
   "id": "e28aa121",
   "metadata": {},
   "outputs": [],
   "source": [
    "# Cleanup data\n",
    "df_clean = df[categorical_columns+numerical_columns+[y_column]].copy()\n",
    "\n",
    "for column in categorical_columns:\n",
    "    df_clean[column].replace({\"?\": \"unknown\"}, inplace=True)\n",
    "\n",
    "# prepare y\n",
    "df_clean['low_income'] = df.income.str.strip() == '<=50K'\n",
    "del df_clean[\"income\"]\n",
    "\n",
    "# delete rows with unknown fields\n",
    "for column in categorical_columns:\n",
    "    df_clean[column].replace({\"unknown\": np.nan}, inplace=True)\n",
    "df_clean = df_clean.dropna()    \n",
    "\n",
    "#reset index\n",
    "df_clean = df_clean.reset_index(drop=True)\n",
    "\n",
    "df_clean"
   ]
  },
  {
   "cell_type": "code",
   "execution_count": null,
   "id": "aeb03bdc",
   "metadata": {},
   "outputs": [],
   "source": [
    "# EDA Exploritory Data Analysis\n",
    "\n",
    "with pd.option_context('display.max_rows', 6, 'display.max_columns', None): \n",
    "    \n",
    "    df_selection_by_sex = df_clean[df_clean.age >= 40].groupby(\"sex\").low_income.agg([\"mean\", \"count\"]).T\n",
    "    display(\"Low income people working fulltime by sex:\", df_selection_by_sex)\n",
    "    \n",
    "    df_selection_by_age = df_clean[df_clean.age >= 40].groupby(\"age\").low_income.agg([\"mean\", \"count\"]).T\n",
    "    display(\"Low income people working fulltime by age:\", df_selection_by_age)\n",
    "    \n",
    "    df_selection_by_education = df_clean[df_clean.age >= 40].groupby(\"education\").low_income.agg([\"mean\", \"count\"]).sort_values(by=['mean']).T\n",
    "    display(\"Low income people working fulltime by education:\", df_selection_by_education)\n",
    "    \n",
    "    df_selection_by_country = df_clean[df_clean.age >= 40].groupby(\"native-country\").low_income.agg([\"mean\", \"count\"]).sort_values(by=['mean']).T\n",
    "    display(\"Low income people working fulltime by country:\", df_selection_by_country)\n",
    "    \n",
    "    \n",
    "    \n"
   ]
  }
 ],
 "metadata": {
  "kernelspec": {
   "display_name": "Python 3",
   "language": "python",
   "name": "python3"
  },
  "language_info": {
   "codemirror_mode": {
    "name": "ipython",
    "version": 3
   },
   "file_extension": ".py",
   "mimetype": "text/x-python",
   "name": "python",
   "nbconvert_exporter": "python",
   "pygments_lexer": "ipython3",
   "version": "3.8.8"
  }
 },
 "nbformat": 4,
 "nbformat_minor": 5
}
