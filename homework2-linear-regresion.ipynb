{
 "cells": [
  {
   "cell_type": "code",
   "execution_count": 1,
   "id": "e7b668d2",
   "metadata": {
    "_cell_guid": "b1076dfc-b9ad-4769-8c92-a6c4dae69d19",
    "_uuid": "8f2839f25d086af736a60e9eeb907d3b93b6e0e5",
    "execution": {
     "iopub.execute_input": "2021-09-18T21:44:03.472134Z",
     "iopub.status.busy": "2021-09-18T21:44:03.471277Z",
     "iopub.status.idle": "2021-09-18T21:44:03.915679Z",
     "shell.execute_reply": "2021-09-18T21:44:03.916328Z",
     "shell.execute_reply.started": "2021-09-18T21:15:49.473107Z"
    },
    "papermill": {
     "duration": 0.478634,
     "end_time": "2021-09-18T21:44:03.916743",
     "exception": false,
     "start_time": "2021-09-18T21:44:03.438109",
     "status": "completed"
    },
    "tags": []
   },
   "outputs": [
    {
     "name": "stdout",
     "output_type": "stream",
     "text": [
      "/kaggle/input/ab-nyc-2019/AB_NYC_2019.csv\n",
      "\n",
      "Column: id\n",
      "Unique values (top5): [2539 2595 3647 3831 5022]\n",
      "Unique count for  id is 48895\n",
      "\n",
      "Column: name\n",
      "Unique values (top5): ['Clean & quiet apt home by the park' 'Skylit Midtown Castle'\n",
      " 'THE VILLAGE OF HARLEM....NEW YORK !' 'Cozy Entire Floor of Brownstone'\n",
      " 'Entire Apt: Spacious Studio/Loft by central park']\n",
      "Unique count for  name is 47905\n",
      "\n",
      "Column: host_id\n",
      "Unique values (top5): [2787 2845 4632 4869 7192]\n",
      "Unique count for  host_id is 37457\n",
      "\n",
      "Column: host_name\n",
      "Unique values (top5): ['John' 'Jennifer' 'Elisabeth' 'LisaRoxanne' 'Laura']\n",
      "Unique count for  host_name is 11452\n",
      "\n",
      "Column: neighbourhood_group\n",
      "Unique values (top5): ['Brooklyn' 'Manhattan' 'Queens' 'Staten Island' 'Bronx']\n",
      "Unique count for  neighbourhood_group is 5\n",
      "\n",
      "Column: neighbourhood\n",
      "Unique values (top5): ['Kensington' 'Midtown' 'Harlem' 'Clinton Hill' 'East Harlem']\n",
      "Unique count for  neighbourhood is 221\n",
      "\n",
      "Column: latitude\n",
      "Unique values (top5): [40.64749 40.75362 40.80902 40.68514 40.79851]\n",
      "Unique count for  latitude is 19048\n",
      "\n",
      "Column: longitude\n",
      "Unique values (top5): [-73.97237 -73.98377 -73.9419  -73.95976 -73.94399]\n",
      "Unique count for  longitude is 14718\n",
      "\n",
      "Column: room_type\n",
      "Unique values (top5): ['Private room' 'Entire home/apt' 'Shared room']\n",
      "Unique count for  room_type is 3\n",
      "\n",
      "Column: price\n",
      "Unique values (top5): [149 225 150  89  80]\n",
      "Unique count for  price is 674\n",
      "\n",
      "Column: minimum_nights\n",
      "Unique values (top5): [ 1  3 10 45  2]\n",
      "Unique count for  minimum_nights is 109\n",
      "\n",
      "Column: number_of_reviews\n",
      "Unique values (top5): [  9  45   0 270  74]\n",
      "Unique count for  number_of_reviews is 394\n",
      "\n",
      "Column: last_review\n",
      "Unique values (top5): ['2018-10-19' '2019-05-21' nan '2019-07-05' '2018-11-19']\n",
      "Unique count for  last_review is 1764\n",
      "\n",
      "Column: reviews_per_month\n",
      "Unique values (top5): [0.21 0.38  nan 4.64 0.1 ]\n",
      "Unique count for  reviews_per_month is 937\n",
      "\n",
      "Column: calculated_host_listings_count\n",
      "Unique values (top5): [6 2 1 4 3]\n",
      "Unique count for  calculated_host_listings_count is 47\n",
      "\n",
      "Column: availability_365\n",
      "Unique values (top5): [365 355 194   0 129]\n",
      "Unique count for  availability_365 is 366\n"
     ]
    }
   ],
   "source": [
    "# This Python 3 environment comes with many helpful analytics libraries installed\n",
    "# It is defined by the kaggle/python Docker image: https://github.com/kaggle/docker-python\n",
    "# For example, here's several helpful packages to load\n",
    "\n",
    "import numpy as np # linear algebra\n",
    "import pandas as pd # data processing, CSV file I/O (e.g. pd.read_csv)\n",
    "\n",
    "# Input data files are available in the read-only \"../input/\" directory\n",
    "# For example, running this (by clicking run or pressing Shift+Enter) will list all files under the input directory\n",
    "\n",
    "import os\n",
    "for dirname, _, filenames in os.walk('/kaggle/input'):\n",
    "    for filename in filenames:\n",
    "        print(os.path.join(dirname, filename))\n",
    "\n",
    "# You can write up to 20GB to the current directory (/kaggle/working/) that gets preserved as output when you create a version using \"Save & Run All\" \n",
    "# You can also write temporary files to /kaggle/temp/, but they won't be saved outside of the current session\n",
    "\n",
    "df = pd.read_csv(\"/kaggle/input/ab-nyc-2019/AB_NYC_2019.csv\")\n",
    "\n",
    "df.columns = df.columns.str.lower()\n",
    "df.head()\n",
    "# df.dtypes == \"object\"\n",
    "\n",
    "for col in df.columns:\n",
    "    print()\n",
    "    print(\"Column:\", col)\n",
    "    print(\"Unique values (top5):\",df[col].unique()[:5])\n",
    "    print(\"Unique count for \",col, \"is\", df[col].nunique())"
   ]
  },
  {
   "cell_type": "code",
   "execution_count": 2,
   "id": "a437a942",
   "metadata": {
    "execution": {
     "iopub.execute_input": "2021-09-18T21:44:03.957271Z",
     "iopub.status.busy": "2021-09-18T21:44:03.956460Z",
     "iopub.status.idle": "2021-09-18T21:44:05.275432Z",
     "shell.execute_reply": "2021-09-18T21:44:05.275940Z",
     "shell.execute_reply.started": "2021-09-18T21:15:49.805159Z"
    },
    "papermill": {
     "duration": 1.342565,
     "end_time": "2021-09-18T21:44:05.276125",
     "exception": false,
     "start_time": "2021-09-18T21:44:03.933560",
     "status": "completed"
    },
    "tags": []
   },
   "outputs": [
    {
     "data": {
      "text/plain": [
       "<AxesSubplot:xlabel='price', ylabel='Count'>"
      ]
     },
     "execution_count": 2,
     "metadata": {},
     "output_type": "execute_result"
    },
    {
     "data": {
      "image/png": "[encoded data removed]",
      "text/plain": [
       "<Figure size 432x288 with 1 Axes>"
      ]
     },
     "metadata": {
      "needs_background": "light"
     },
     "output_type": "display_data"
    }
   ],
   "source": [
    "import matplotlib.pyplot as plt\n",
    "import seaborn as sns\n",
    "\n",
    "\n",
    "np.log1p([0, 1,10,100,1000])\n",
    "priceLogs = np.log1p(df.price)\n",
    "df.price + priceLogs\n",
    "sns.histplot(priceLogs, bins=50, color='red')"
   ]
  },
  {
   "cell_type": "code",
   "execution_count": 3,
   "id": "1b49706d",
   "metadata": {
    "execution": {
     "iopub.execute_input": "2021-09-18T21:44:05.317534Z",
     "iopub.status.busy": "2021-09-18T21:44:05.316828Z",
     "iopub.status.idle": "2021-09-18T21:44:05.321137Z",
     "shell.execute_reply": "2021-09-18T21:44:05.320381Z",
     "shell.execute_reply.started": "2021-09-18T21:15:50.536411Z"
    },
    "papermill": {
     "duration": 0.029404,
     "end_time": "2021-09-18T21:44:05.321335",
     "exception": false,
     "start_time": "2021-09-18T21:44:05.291931",
     "status": "completed"
    },
    "tags": []
   },
   "outputs": [],
   "source": [
    "# import pandas_profiling\n",
    "# pandas_profiling.ProfileReport(df)"
   ]
  },
  {
   "cell_type": "code",
   "execution_count": 4,
   "id": "24760100",
   "metadata": {
    "execution": {
     "iopub.execute_input": "2021-09-18T21:44:05.363757Z",
     "iopub.status.busy": "2021-09-18T21:44:05.362956Z",
     "iopub.status.idle": "2021-09-18T21:44:05.379865Z",
     "shell.execute_reply": "2021-09-18T21:44:05.378998Z",
     "shell.execute_reply.started": "2021-09-18T21:15:50.542847Z"
    },
    "papermill": {
     "duration": 0.040446,
     "end_time": "2021-09-18T21:44:05.380087",
     "exception": false,
     "start_time": "2021-09-18T21:44:05.339641",
     "status": "completed"
    },
    "tags": []
   },
   "outputs": [
    {
     "name": "stdout",
     "output_type": "stream",
     "text": [
      "1\n",
      "missing values:  10052\n",
      "2\n",
      "minimum_nights mean: 7.029962163820431\n"
     ]
    },
    {
     "data": {
      "text/plain": [
       "latitude                          float64\n",
       "longitude                         float64\n",
       "price                               int64\n",
       "minimum_nights                      int64\n",
       "number_of_reviews                   int64\n",
       "reviews_per_month                 float64\n",
       "calculated_host_listings_count      int64\n",
       "availability_365                    int64\n",
       "dtype: object"
      ]
     },
     "execution_count": 4,
     "metadata": {},
     "output_type": "execute_result"
    }
   ],
   "source": [
    "\n",
    "\n",
    "print(1)\n",
    "ourDf = df[['latitude','longitude','price','minimum_nights','number_of_reviews','reviews_per_month','calculated_host_listings_count','availability_365']]\n",
    "# ourDf = df[['price','minimum_nights','calculated_host_listings_count']]\n",
    "print(\"missing values: \", ourDf.isnull().sum().sum())\n",
    "\n",
    "print(2)\n",
    "print(\"minimum_nights mean:\", ourDf.minimum_nights.mean())\n",
    "ourDf.dtypes\n"
   ]
  },
  {
   "cell_type": "code",
   "execution_count": 5,
   "id": "7049ccfa",
   "metadata": {
    "execution": {
     "iopub.execute_input": "2021-09-18T21:44:05.427313Z",
     "iopub.status.busy": "2021-09-18T21:44:05.426329Z",
     "iopub.status.idle": "2021-09-18T21:44:05.448006Z",
     "shell.execute_reply": "2021-09-18T21:44:05.448568Z",
     "shell.execute_reply.started": "2021-09-18T21:15:50.571103Z"
    },
    "papermill": {
     "duration": 0.051009,
     "end_time": "2021-09-18T21:44:05.448790",
     "exception": false,
     "start_time": "2021-09-18T21:44:05.397781",
     "status": "completed"
    },
    "tags": []
   },
   "outputs": [
    {
     "name": "stdout",
     "output_type": "stream",
     "text": [
      "Part3 Setting Up The Validation Framework\n",
      "Total lines: 48895\n",
      "Total reccords after train/val/test random repartition: 48895\n",
      "Total reccords after train/val/test random repartition: 48895\n"
     ]
    }
   ],
   "source": [
    "print(\"Part3 Setting Up The Validation Framework\")\n",
    "n = len(df)\n",
    "print(\"Total lines:\",n)\n",
    "\n",
    "# prepare records count\n",
    "n_val = int(n * 0.2)\n",
    "n_test = int(n * 0.2)\n",
    "n_train = (n - n_val - n_test)\n",
    "\n",
    "# repare random indexes\n",
    "indexes = np.arange(n)\n",
    "np.random.seed(42)\n",
    "np.random.shuffle(indexes)\n",
    "\n",
    "# split data into 60% train, 20% validation and 20% test\n",
    "df_train = ourDf.iloc[indexes[:n_train]]\n",
    "df_val = ourDf.iloc[indexes[n_train:n_train+n_val]]\n",
    "df_test = ourDf.iloc[indexes[n_train+n_val:]]\n",
    "\n",
    "print(\"Total reccords after train/val/test random repartition:\",len(df_val)+ len(df_test)+ len(df_train))\n",
    "\n",
    "# prepare training/val/test data Y\n",
    "y_train = np.log1p(df_train.price.values)\n",
    "y_val = np.log1p(df_val.price.values)\n",
    "y_test = np.log1p(df_test.price.values)\n",
    "print(\"Total reccords after train/val/test random repartition:\",len(y_train)+ len(y_val)+ len(y_test))\n",
    "\n",
    "# delete price from source data to not use in training, we will use the log values as output.\n",
    "del df_train[\"price\"]\n",
    "del df_val[\"price\"]\n",
    "del df_test[\"price\"]\n",
    "\n",
    "\n"
   ]
  },
  {
   "cell_type": "code",
   "execution_count": 6,
   "id": "60582a04",
   "metadata": {
    "execution": {
     "iopub.execute_input": "2021-09-18T21:44:05.493006Z",
     "iopub.status.busy": "2021-09-18T21:44:05.492137Z",
     "iopub.status.idle": "2021-09-18T21:44:05.495206Z",
     "shell.execute_reply": "2021-09-18T21:44:05.495755Z",
     "shell.execute_reply.started": "2021-09-18T21:15:50.600083Z"
    },
    "papermill": {
     "duration": 0.028982,
     "end_time": "2021-09-18T21:44:05.495965",
     "exception": false,
     "start_time": "2021-09-18T21:44:05.466983",
     "status": "completed"
    },
    "tags": []
   },
   "outputs": [
    {
     "data": {
      "text/plain": [
       "123.00000000000003"
      ]
     },
     "execution_count": 6,
     "metadata": {},
     "output_type": "execute_result"
    }
   ],
   "source": [
    "df_train.iloc[10]\n",
    "np.expm1(1)\n",
    "np.expm1(np.log1p(123))\n",
    "# np.exp(np.log(123))"
   ]
  },
  {
   "cell_type": "code",
   "execution_count": 7,
   "id": "26d42f9c",
   "metadata": {
    "execution": {
     "iopub.execute_input": "2021-09-18T21:44:05.543778Z",
     "iopub.status.busy": "2021-09-18T21:44:05.542374Z",
     "iopub.status.idle": "2021-09-18T21:44:05.546698Z",
     "shell.execute_reply": "2021-09-18T21:44:05.547203Z",
     "shell.execute_reply.started": "2021-09-18T21:15:50.608661Z"
    },
    "papermill": {
     "duration": 0.03329,
     "end_time": "2021-09-18T21:44:05.547422",
     "exception": false,
     "start_time": "2021-09-18T21:44:05.514132",
     "status": "completed"
    },
    "tags": []
   },
   "outputs": [
    {
     "data": {
      "text/plain": [
       "16.0"
      ]
     },
     "execution_count": 7,
     "metadata": {},
     "output_type": "execute_result"
    }
   ],
   "source": [
    "# get prediction:\n",
    "def linear_regresion(xi, w):\n",
    "    xi = [1] + xi\n",
    "    n = len(xi)\n",
    "    \n",
    "    res = 0.0\n",
    "    for j in range(0,n):\n",
    "        res = res + xi[j]*w[j]\n",
    "        \n",
    "    return res\n",
    "\n",
    "def linear_regresion2(xi, w):\n",
    "    xi = [1]+xi\n",
    "    return np.array(xi).dot(w)\n",
    "\n",
    "linear_regresion([14,23,31], [0.7, 0.1, 0.2, 0.3]) # = 16\n",
    "# OR: \n",
    "linear_regresion2([14,23,31], [0.7, 0.1, 0.2, 0.3]) # = 16\n",
    "# OR\n",
    "# w0 + X.dot(w)  #where X = API input matrix, W = [w1, w2,...]\n"
   ]
  },
  {
   "cell_type": "code",
   "execution_count": 8,
   "id": "44a98705",
   "metadata": {
    "execution": {
     "iopub.execute_input": "2021-09-18T21:44:05.592970Z",
     "iopub.status.busy": "2021-09-18T21:44:05.592250Z",
     "iopub.status.idle": "2021-09-18T21:44:05.613101Z",
     "shell.execute_reply": "2021-09-18T21:44:05.612439Z",
     "shell.execute_reply.started": "2021-09-18T21:15:50.624078Z"
    },
    "papermill": {
     "duration": 0.047783,
     "end_time": "2021-09-18T21:44:05.613258",
     "exception": false,
     "start_time": "2021-09-18T21:44:05.565475",
     "status": "completed"
    },
    "tags": []
   },
   "outputs": [
    {
     "data": {
      "text/plain": [
       "11110.000000000038"
      ]
     },
     "execution_count": 8,
     "metadata": {},
     "output_type": "execute_result"
    }
   ],
   "source": [
    "# train model to get W example\n",
    "\n",
    "trainInput = np.array([\n",
    "    [1,2,3],\n",
    "    [4,5,6],\n",
    "    [7,8,9],\n",
    "    [10,11,12],\n",
    "    [13,14,15],\n",
    "    [0,1,2],\n",
    "])\n",
    "\n",
    "trainOutput =  [10,40,70,100,130,0]\n",
    "\n",
    "def train_linear_regresion(X, y):\n",
    "    ones = np.ones(X.shape[0])\n",
    "    X = np.column_stack([ones, X])\n",
    "    \n",
    "    XTX = X.T.dot(X)\n",
    "    XTX_inv = np.linalg.pinv(XTX)\n",
    "    w_full = XTX_inv.dot(X.T).dot(y)\n",
    "    \n",
    "    return w_full\n",
    "\n",
    "w = train_linear_regresion(trainInput, trainOutput)\n",
    "linear_regresion([1111,1112,1113], w)"
   ]
  },
  {
   "cell_type": "code",
   "execution_count": 9,
   "id": "426a43b9",
   "metadata": {
    "execution": {
     "iopub.execute_input": "2021-09-18T21:44:05.664638Z",
     "iopub.status.busy": "2021-09-18T21:44:05.663921Z",
     "iopub.status.idle": "2021-09-18T21:44:06.456533Z",
     "shell.execute_reply": "2021-09-18T21:44:06.455542Z",
     "shell.execute_reply.started": "2021-09-18T21:37:27.017960Z"
    },
    "papermill": {
     "duration": 0.823781,
     "end_time": "2021-09-18T21:44:06.456717",
     "exception": false,
     "start_time": "2021-09-18T21:44:05.632936",
     "status": "completed"
    },
    "tags": []
   },
   "outputs": [
    {
     "data": {
      "text/plain": [
       "<AxesSubplot:ylabel='Count'>"
      ]
     },
     "execution_count": 9,
     "metadata": {},
     "output_type": "execute_result"
    },
    {
     "data": {
      "image/png": "[encoded data removed]",
      "text/plain": [
       "<Figure size 432x288 with 1 Axes>"
      ]
     },
     "metadata": {
      "needs_background": "light"
     },
     "output_type": "display_data"
    }
   ],
   "source": [
    "# train model to get W on real data\n",
    "\n",
    "# df_train\n",
    "# df_val\n",
    "# df_test\n",
    "\n",
    "# y_train\n",
    "# y_val\n",
    "# y_test\n",
    "\n",
    "# train by filling NA with 0\n",
    "X_train0 = df_train.fillna(0).values\n",
    "w_train0 = train_linear_regresion(X_train0, y_train)  #train\n",
    "y_train0Predicted = w_train0[0] + X_train0.dot(w_train0[1:])\n",
    "\n",
    "# train by filling NA with mean of the column\n",
    "X_trainMean = df_train.fillna(df_train.mean()).values\n",
    "w_trainMean = train_linear_regresion(X_trainMean, y_train)  #train\n",
    "y_trainMeanPredicted = w_trainMean[0] + X_trainMean.dot(w_trainMean[1:])\n",
    "\n",
    "\n",
    "\n",
    "sns.histplot(y_train, bins=50, color='blue', alpha=0.5)      #Y true values\n",
    "sns.histplot(y_train0Predicted, bins=50, color='red', alpha=0.5)       # predcred Y with fillna 0\n",
    "sns.histplot(y_trainMeanPredicted, bins=50, color='green', alpha=0.5)  # predcred Y with fillna mean\n",
    "\n",
    "# sns.histplot(df_train[df_train.reviews_per_month<3].reviews_per_month, bins=50, color='green', alpha=0.5)\n",
    "\n",
    "\n"
   ]
  },
  {
   "cell_type": "code",
   "execution_count": 10,
   "id": "10eb90d8",
   "metadata": {
    "execution": {
     "iopub.execute_input": "2021-09-18T21:44:06.501861Z",
     "iopub.status.busy": "2021-09-18T21:44:06.501047Z",
     "iopub.status.idle": "2021-09-18T21:44:06.508332Z",
     "shell.execute_reply": "2021-09-18T21:44:06.509299Z",
     "shell.execute_reply.started": "2021-09-18T21:15:51.247787Z"
    },
    "papermill": {
     "duration": 0.032424,
     "end_time": "2021-09-18T21:44:06.509606",
     "exception": false,
     "start_time": "2021-09-18T21:44:06.477182",
     "status": "completed"
    },
    "tags": []
   },
   "outputs": [
    {
     "name": "stdout",
     "output_type": "stream",
     "text": [
      "RMSE on train data with 0 null values: 0.6428860484860425\n",
      "RMSE on train data with mean null values: 0.6429347474014221\n"
     ]
    }
   ],
   "source": [
    "# RMSE\n",
    "\n",
    "def rmse(y, y_pred):\n",
    "    error = y-y_pred\n",
    "    se = error ** 2\n",
    "    mse = se.mean()\n",
    "    return np.sqrt(mse)\n",
    "\n",
    "print(\"RMSE on train data with 0 null values:\", rmse(y_train, y_train0Predicted))\n",
    "print(\"RMSE on train data with mean null values:\", rmse(y_train, y_trainMeanPredicted))\n"
   ]
  },
  {
   "cell_type": "code",
   "execution_count": 11,
   "id": "366171c8",
   "metadata": {
    "execution": {
     "iopub.execute_input": "2021-09-18T21:44:06.561912Z",
     "iopub.status.busy": "2021-09-18T21:44:06.554215Z",
     "iopub.status.idle": "2021-09-18T21:44:07.330170Z",
     "shell.execute_reply": "2021-09-18T21:44:07.328894Z",
     "shell.execute_reply.started": "2021-09-18T21:37:50.062177Z"
    },
    "papermill": {
     "duration": 0.799704,
     "end_time": "2021-09-18T21:44:07.330395",
     "exception": false,
     "start_time": "2021-09-18T21:44:06.530691",
     "status": "completed"
    },
    "tags": []
   },
   "outputs": [
    {
     "name": "stdout",
     "output_type": "stream",
     "text": [
      "RMSE on validation data with 0 null values: 0.64\n",
      "RMSE on validation data with mean null values: 0.64\n"
     ]
    },
    {
     "data": {
      "image/png": "[encoded data removed]",
      "text/plain": [
       "<Figure size 432x288 with 1 Axes>"
      ]
     },
     "metadata": {
      "needs_background": "light"
     },
     "output_type": "display_data"
    }
   ],
   "source": [
    "# Q3: Validating the model\n",
    "\n",
    "# validation by filling NA with 0\n",
    "X_val0 = df_val.fillna(0).values\n",
    "w_val0 = train_linear_regresion(X_val0, y_val)  #train\n",
    "y_val0Predicted = w_val0[0] + X_val0.dot(w_val0[1:])\n",
    "\n",
    "# validation by filling NA with mean of the column\n",
    "X_valMean = df_val.fillna(df_val.mean()).values\n",
    "w_valMean = train_linear_regresion(X_valMean, y_val)   #train\n",
    "y_valMeanPredicted = w_valMean[0] + X_valMean.dot(w_valMean[1:])\n",
    "\n",
    "sns.histplot(y_train, bins=50, color='blue', alpha=0.5)      #Y true values\n",
    "sns.histplot(y_val0Predicted, bins=50, color='red', alpha=0.5)       # predcred Y with fillna 0\n",
    "sns.histplot(y_valMeanPredicted, bins=50, color='green', alpha=0.5)  # predcred Y with fillna mean\n",
    "\n",
    "print(\"RMSE on validation data with 0 null values:\", round(rmse(y_val, y_val0Predicted),2))\n",
    "print(\"RMSE on validation data with mean null values:\", round(rmse(y_val, y_valMeanPredicted),2))\n",
    "\n"
   ]
  },
  {
   "cell_type": "code",
   "execution_count": 12,
   "id": "97e6a1e7",
   "metadata": {
    "execution": {
     "iopub.execute_input": "2021-09-18T21:44:07.383837Z",
     "iopub.status.busy": "2021-09-18T21:44:07.382934Z",
     "iopub.status.idle": "2021-09-18T21:44:07.422582Z",
     "shell.execute_reply": "2021-09-18T21:44:07.424073Z",
     "shell.execute_reply.started": "2021-09-18T21:15:51.918458Z"
    },
    "papermill": {
     "duration": 0.072225,
     "end_time": "2021-09-18T21:44:07.424445",
     "exception": false,
     "start_time": "2021-09-18T21:44:07.352220",
     "status": "completed"
    },
    "tags": []
   },
   "outputs": [
    {
     "name": "stdout",
     "output_type": "stream",
     "text": [
      "RMSE on validation data (fillna = 0, r = 0 ): 0.64\n",
      "RMSE on validation data (fillna = 0, r = 1e-06 ): 0.64\n",
      "RMSE on validation data (fillna = 0, r = 0.0001 ): 0.64\n",
      "RMSE on validation data (fillna = 0, r = 0.001 ): 0.65\n",
      "RMSE on validation data (fillna = 0, r = 0.01 ): 0.67\n",
      "RMSE on validation data (fillna = 0, r = 0.1 ): 0.68\n",
      "RMSE on validation data (fillna = 0, r = 1 ): 0.68\n",
      "RMSE on validation data (fillna = 0, r = 5 ): 0.68\n",
      "RMSE on validation data (fillna = 0, r = 10 ): 0.68\n"
     ]
    }
   ],
   "source": [
    "# Q4: REGULARIZATION\n",
    "def train_linear_regresion_regularized(X, y, r=0.01):\n",
    "    ones = np.ones(X.shape[0])\n",
    "    X = np.column_stack([ones, X])\n",
    "    \n",
    "    XTX = X.T.dot(X)\n",
    "    XTX = XTX + (r * np.eye(XTX.shape[0]))\n",
    "    XTX_inv = np.linalg.pinv(XTX)\n",
    "    w_full = XTX_inv.dot(X.T).dot(y)\n",
    "    \n",
    "    return w_full\n",
    "\n",
    "def train(df, y, fillnaVal=0, r=0.01):\n",
    "    X = df.fillna(fillnaVal).values\n",
    "    wReg = train_linear_regresion_regularized(X, y, r)  #train\n",
    "    yRegPredicted = wReg[0] + X.dot(wReg[1:])\n",
    "    return yRegPredicted\n",
    "\n",
    "for r in [0, 0.000001, 0.0001, 0.001, 0.01, 0.1, 1, 5, 10]:\n",
    "#     y_train0RegPredicted = train(df_train, y_train, 0, r)\n",
    "#     print(\"RMSE on trained data with 0 null values:\", round(rmse(y_train, y_train0RegPredicted),2))\n",
    "    y_val0RegPredicted = train(df_val, y_val, 0, r)\n",
    "    print(\"RMSE on validation data (fillna = 0, r =\",r,\"):\", round(rmse(y_val, y_val0RegPredicted),2))\n",
    "\n",
    "\n"
   ]
  },
  {
   "cell_type": "code",
   "execution_count": 13,
   "id": "34cf3bb5",
   "metadata": {
    "execution": {
     "iopub.execute_input": "2021-09-18T21:44:07.519554Z",
     "iopub.status.busy": "2021-09-18T21:44:07.518082Z",
     "iopub.status.idle": "2021-09-18T21:44:07.796103Z",
     "shell.execute_reply": "2021-09-18T21:44:07.797204Z",
     "shell.execute_reply.started": "2021-09-18T21:15:51.961057Z"
    },
    "papermill": {
     "duration": 0.333514,
     "end_time": "2021-09-18T21:44:07.797590",
     "exception": false,
     "start_time": "2021-09-18T21:44:07.464076",
     "status": "completed"
    },
    "tags": []
   },
   "outputs": [
    {
     "name": "stdout",
     "output_type": "stream",
     "text": [
      "RMSE on train data with 0 null values(seed= 0 ): 0.65\n",
      "RMSE on train data with 0 null values(seed= 1 ): 0.65\n",
      "RMSE on train data with 0 null values(seed= 2 ): 0.65\n",
      "RMSE on train data with 0 null values(seed= 3 ): 0.64\n",
      "RMSE on train data with 0 null values(seed= 4 ): 0.64\n",
      "RMSE on train data with 0 null values(seed= 5 ): 0.63\n",
      "RMSE on train data with 0 null values(seed= 6 ): 0.63\n",
      "RMSE on train data with 0 null values(seed= 7 ): 0.65\n",
      "RMSE on train data with 0 null values(seed= 8 ): 0.65\n",
      "RMSE on train data with 0 null values(seed= 9 ): 0.64\n",
      "SRD of RMSE on validation data with different seeds:  0.008\n"
     ]
    }
   ],
   "source": [
    "# Q5\n",
    "\n",
    "def prepare_data(df, seed=42):\n",
    "    n = len(df)\n",
    "\n",
    "    # prepare records count\n",
    "    n_val = int(n * 0.2)\n",
    "    n_test = int(n * 0.2)\n",
    "    n_train = (n - n_val - n_test)\n",
    "\n",
    "    # repare random indexes\n",
    "    indexes = np.arange(n)\n",
    "    np.random.seed(seed)\n",
    "    np.random.shuffle(indexes)\n",
    "\n",
    "    # split data into 60% train, 20% validation and 20% test\n",
    "    df_train = ourDf.iloc[indexes[:n_train]]\n",
    "    df_val = ourDf.iloc[indexes[n_train:n_train+n_val]]\n",
    "    df_test = ourDf.iloc[indexes[n_train+n_val:]]\n",
    "\n",
    "#     print(\"Total reccords after train/val/test random repartition:\",len(df_val)+ len(df_test)+ len(df_train))\n",
    "\n",
    "    # prepare training/val/test data Y\n",
    "    y_train = np.log1p(df_train.price.values)\n",
    "    y_val = np.log1p(df_val.price.values)\n",
    "    y_test = np.log1p(df_test.price.values)\n",
    "#     print(\"Total reccords after train/val/test random repartition:\",len(y_train)+ len(y_val)+ len(y_test))\n",
    "\n",
    "    # delete price from source data to not use in training, we will use the log values as output.\n",
    "    del df_train[\"price\"]\n",
    "    del df_val[\"price\"]\n",
    "    del df_test[\"price\"]\n",
    "    return df_train, df_val, df_test, y_train, y_val, y_test\n",
    "\n",
    "rmseList = []    \n",
    "for s in [0, 1, 2, 3, 4, 5, 6, 7, 8, 9]:    \n",
    "    df_train, df_val, df_test, y_train, y_val, y_test = prepare_data(df, s)\n",
    "\n",
    "    # train by filling NA with 0\n",
    "    X_train0 = df_train.fillna(0).values\n",
    "    w_train0 = train_linear_regresion(X_train0, y_train)  #train\n",
    "    y_train0Predicted = w_train0[0] + X_train0.dot(w_train0[1:])\n",
    "\n",
    "\n",
    "    # validation by filling NA with 0\n",
    "    X_val0 = df_val.fillna(0).values\n",
    "    w_val0 = train_linear_regresion(X_val0, y_val)  #train\n",
    "    y_val0Predicted = w_val0[0] + X_val0.dot(w_val0[1:])\n",
    "    \n",
    "    rmseVal = round(rmse(y_val, y_val0Predicted),2)\n",
    "    print(\"RMSE on train data with 0 null values(seed=\",s,\"):\", rmseVal)\n",
    "#     print(\"RMSE on validation data with 0 null values(seed=\",s,\"):\", round(rmse(y_val, y_val0Predicted),2))\n",
    "    rmseList.append(rmseVal)\n",
    "\n",
    "    std = np.std(rmseList)\n",
    "    \n",
    "print(\"SRD of RMSE on validation data with different seeds: \",round(std, 3))\n"
   ]
  },
  {
   "cell_type": "code",
   "execution_count": 14,
   "id": "47065742",
   "metadata": {
    "execution": {
     "iopub.execute_input": "2021-09-18T21:44:07.889150Z",
     "iopub.status.busy": "2021-09-18T21:44:07.888002Z",
     "iopub.status.idle": "2021-09-18T21:44:07.925593Z",
     "shell.execute_reply": "2021-09-18T21:44:07.926532Z",
     "shell.execute_reply.started": "2021-09-18T21:15:52.252158Z"
    },
    "papermill": {
     "duration": 0.088142,
     "end_time": "2021-09-18T21:44:07.926862",
     "exception": false,
     "start_time": "2021-09-18T21:44:07.838720",
     "status": "completed"
    },
    "tags": []
   },
   "outputs": [
    {
     "name": "stdout",
     "output_type": "stream",
     "text": [
      "(39116, 7) (39116,)\n",
      "RMSE on train + validation data (fillna = 0, r = 0.001 ): 0.65\n"
     ]
    }
   ],
   "source": [
    "# Q6\n",
    "\n",
    "df_train6, df_val6, df_test6, y_train6, y_val6, y_test6 = prepare_data(df, 9)\n",
    "df_train_val = pd.concat([df_train6, df_val6])\n",
    "y_train_val = np.concatenate([y_train6, y_val6])\n",
    "\n",
    "print(df_train_val.shape, y_train_val.shape)\n",
    "\n",
    "r=0.001\n",
    "\n",
    "y_train_val0RegPredicted = train(df_train_val, y_train_val, 0, r)    \n",
    "\n",
    "print(\"RMSE on train + validation data (fillna = 0, r =\",r,\"):\", round(rmse(y_train_val, y_train_val0RegPredicted),2))\n"
   ]
  },
  {
   "cell_type": "code",
   "execution_count": 15,
   "id": "6c726911",
   "metadata": {
    "execution": {
     "iopub.execute_input": "2021-09-18T21:44:08.021188Z",
     "iopub.status.busy": "2021-09-18T21:44:08.019497Z",
     "iopub.status.idle": "2021-09-18T21:44:08.044312Z",
     "shell.execute_reply": "2021-09-18T21:44:08.045313Z",
     "shell.execute_reply.started": "2021-09-18T21:43:27.520629Z"
    },
    "papermill": {
     "duration": 0.078431,
     "end_time": "2021-09-18T21:44:08.045684",
     "exception": false,
     "start_time": "2021-09-18T21:44:07.967253",
     "status": "completed"
    },
    "tags": []
   },
   "outputs": [
    {
     "name": "stdout",
     "output_type": "stream",
     "text": [
      "Test record:\n",
      " latitude                           40.68554\n",
      "longitude                         -73.96651\n",
      "price                             120.00000\n",
      "minimum_nights                      3.00000\n",
      "number_of_reviews                   3.00000\n",
      "reviews_per_month                   0.47000\n",
      "calculated_host_listings_count      1.00000\n",
      "availability_365                    0.00000\n",
      "Name: 39219, dtype: float64\n",
      "Predicted price (log) is:  4.691560940071497\n",
      "Predicted price is:  108.02322577894583\n",
      "Actual price: 120.0\n"
     ]
    }
   ],
   "source": [
    "# FINAL PREDICTION\n",
    "X = df_train_val.fillna(0).values\n",
    "W = train_linear_regresion_regularized(X, y_train_val, 0.001)  #train\n",
    "\n",
    "test_indexes = indexes[n_train+n_val:]\n",
    "testRecord = ourDf.iloc[test_indexes[1]]\n",
    "print(\"Test record:\\n\",testRecord)\n",
    "df_test1 = pd.DataFrame([testRecord])\n",
    "del df_test1[\"price\"]\n",
    "\n",
    "price1Predicted = W[0] + df_test1.values.dot(W[1:])[0]\n",
    "print(\"Predicted price (log) is: \", price1Predicted)\n",
    "\n",
    "finalPrice1Predicted = np.expm1(price1Predicted)\n",
    "print(\"Predicted price is: \", finalPrice1Predicted)\n",
    "print(\"Actual price:\",testRecord.price)\n",
    "\n"
   ]
  }
 ],
 "metadata": {
  "kernelspec": {
   "display_name": "Python 3",
   "language": "python",
   "name": "python3"
  },
  "language_info": {
   "codemirror_mode": {
    "name": "ipython",
    "version": 3
   },
   "file_extension": ".py",
   "mimetype": "text/x-python",
   "name": "python",
   "nbconvert_exporter": "python",
   "pygments_lexer": "ipython3",
   "version": "3.7.10"
  },
  "papermill": {
   "default_parameters": {},
   "duration": 13.783224,
   "end_time": "2021-09-18T21:44:08.810764",
   "environment_variables": {},
   "exception": null,
   "input_path": "__notebook__.ipynb",
   "output_path": "__notebook__.ipynb",
   "parameters": {},
   "start_time": "2021-09-18T21:43:55.027540",
   "version": "2.3.3"
  }
 },
 "nbformat": 4,
 "nbformat_minor": 5
}
