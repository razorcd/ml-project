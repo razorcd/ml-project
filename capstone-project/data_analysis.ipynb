{
 "cells": [
  {
   "cell_type": "code",
   "execution_count": null,
   "id": "bd675030",
   "metadata": {},
   "outputs": [
    {
     "data": {
      "text/html": [
       "<style>.container { width:90% !important; }</style>"
      ],
      "text/plain": [
       "<IPython.core.display.HTML object>"
      ]
     },
     "metadata": {},
     "output_type": "display_data"
    },
    {
     "name": "stdout",
     "output_type": "stream",
     "text": [
      "./.gitignore\n",
      "./README.md\n",
      "./immo_data.csv.zip\n",
      "./immo_data.csv\n",
      "./data_analysis.ipynb\n",
      "./.ipynb_checkpoints/data_analysis-checkpoint.ipynb\n"
     ]
    }
   ],
   "source": [
    "# make Notebook wider\n",
    "from IPython.core.display import display, HTML\n",
    "display(HTML(\"<style>.container { width:90% !important; }</style>\"))\n",
    "\n",
    "\n",
    "import numpy as np # linear algebra\n",
    "import pandas as pd # data processing, CSV file I/O (e.g. pd.read_csv)\n",
    "\n",
    "# Input data files are available in the read-only \"../input/\" directory\n",
    "# For example, running this (by clicking run or pressing Shift+Enter) will list all files under the input directory\n",
    "\n",
    "import os\n",
    "for dirname, _, filenames in os.walk('./'):\n",
    "    for filename in filenames:\n",
    "        print(os.path.join(dirname, filename))\n",
    "\n",
    "df = pd.read_csv(\"immo_data.csv\")     \n",
    "\n",
    "print(\"df shape:\", df.shape)\n",
    "display(df.info())\n",
    "display(df.head())"
   ]
  },
  {
   "cell_type": "code",
   "execution_count": null,
   "id": "576d0a58",
   "metadata": {},
   "outputs": [],
   "source": [
    "\n",
    "import matplotlib.pyplot as plt\n",
    "\n",
    "# pd.set_option('max_columns', None)\n",
    "\n",
    "def plot_barh(dict, title=\"\"):\n",
    "    full_height = (len(dict.keys())) / 3\n",
    "    plt.figure(figsize=(10, full_height))\n",
    "    plt.gca().spines['right'].set_color('none')\n",
    "    plt.gca().spines['top'].set_color('none')\n",
    "    plt.title(title)\n",
    "    pp = plt.barh(list(dict.keys()), list(dict.values()), align='center', alpha=0.5)\n",
    "\n",
    "    for p in pp:\n",
    "       width = p.get_width()\n",
    "       plt.annotate('{}'.format(width),\n",
    "          xy=(width, p.get_y()),\n",
    "          xytext=(3, 6),\n",
    "          textcoords=\"offset points\",\n",
    "          ha='left', va='center')\n",
    "    plt.show()"
   ]
  },
  {
   "cell_type": "code",
   "execution_count": null,
   "id": "7627c8aa",
   "metadata": {},
   "outputs": [],
   "source": [
    "record_count_by_region = df.groupby(['regio1']).size().sort_values(ascending=True).to_dict()\n",
    "plot_barh(record_count_by_region, \"Records count by region\")\n"
   ]
  },
  {
   "cell_type": "code",
   "execution_count": null,
   "id": "5800b398",
   "metadata": {},
   "outputs": [],
   "source": [
    "\n",
    "berlinDf = df[df['regio1']=='Berlin']\n",
    "records_by_neighbourhood_in_berlin = berlinDf.groupby(['regio3']).size().sort_values(ascending=True).to_dict()\n",
    "plot_barh(records_by_neighbourhood_in_berlin, \"Records by neighbourhood in Berlin\")\n"
   ]
  },
  {
   "cell_type": "code",
   "execution_count": null,
   "id": "da5ee5e2",
   "metadata": {},
   "outputs": [],
   "source": [
    "useful_columns = [\n",
    "    'regio1', 'regio3', 'heatingType', 'newlyConst', 'balcony', 'picturecount', 'totalRent', 'yearConstructed', 'noParkSpaces', 'firingTypes', 'hasKitchen', 'geo_bln', 'cellar', 'baseRent', 'livingSpace', 'condition', 'interiorQual', 'petsAllowed', 'lift', 'typeOfFlat', 'noRooms', 'floor', 'numberOfFloors', 'garden', 'heatingCosts', 'energyEfficiencyClass', 'lastRefurbish', \n",
    "]\n",
    "berlinDf_select = berlinDf[useful_columns]\n",
    "\n",
    "print(\"NA records by feature:\")\n",
    "berlinDf_select.isna().sum()\n"
   ]
  },
  {
   "cell_type": "code",
   "execution_count": null,
   "id": "f4b1754f",
   "metadata": {},
   "outputs": [],
   "source": [
    "\n",
    "# We will be removing: ['yearConstructed', 'noParkSpaces', 'floor', 'numberOfFloors', 'typeOfFlat', 'heatingCosts', 'lastRefurbish', 'interiorQual']\n",
    "# because there are too many NA values, and feature are not that important.\n",
    "berlinDf_select = berlinDf_select.drop(['yearConstructed', 'noParkSpaces', 'floor', 'numberOfFloors', 'typeOfFlat', 'heatingCosts', 'lastRefurbish', 'interiorQual', 'petsAllowed', 'energyEfficiencyClass'], axis='columns')\n",
    "\n",
    "# Also ['regio1', 'totalRent', 'picturecount', 'condition'] is not a value that we want to predict on.\n",
    "berlinDf_select = berlinDf_select.drop(['regio1', 'totalRent', 'picturecount', 'condition'], axis='columns')\n",
    "\n",
    "berlinDf_select.isna().sum()\n",
    "\n",
    "# We will be keeping ['heatingType', 'firingTypes'] because I still think they are relevant. We will fill NA with NO_INFORMATION and experiemtn with the model.\n"
   ]
  },
  {
   "cell_type": "code",
   "execution_count": null,
   "id": "1823a9aa",
   "metadata": {},
   "outputs": [],
   "source": [
    "correlation = berlinDf_select.corr()\n",
    "\n",
    "import seaborn as sn\n",
    "import matplotlib.pyplot as plt\n",
    "\n",
    "plt.figure(figsize=(18, 18))\n",
    "sn.heatmap(correlation, annot=True, cbar=False, linewidths=.5, cmap=\"YlGnBu\", fmt='.2f', annot_kws={'size': 15})\n",
    "plt.tick_params(axis='both', which='major', labelsize=23, labelbottom = True, bottom=True, top = True, labeltop=True, right=True, labelright=True)\n",
    "plt.xticks(rotation=90) \n",
    "plt.yticks(rotation=0) \n",
    "\n",
    "plt.show()\n",
    "\n",
    "# Checking the baseRent corelation with possible features:\n",
    "# Data shows that livingSpace and noRooms has the highest corelation ~0.8. \n",
    "# But constucton year is important too ~0.5.\n",
    "# Surprisingly seems like heatingCost is also directly corelated with baseRent too. I was expecting this to be inverse corelated.\n",
    "\n",
    "# Result: We will experiement with following columns for training: livingSpace, noRooms, heatingCosts, hasKitchen, cellar, garden, balcony\n",
    "#         Plus categorical columns for: heatingType, firingTypes, condition', 'interiorQual', 'petsAllowed, energyEfficiencyClass\n"
   ]
  },
  {
   "cell_type": "code",
   "execution_count": null,
   "id": "45f5aa60",
   "metadata": {},
   "outputs": [],
   "source": [
    "import matplotlib.pyplot as plt\n",
    "\n",
    "\n",
    "def plot_ticks(x, y, x_label, y_label):\n",
    "    plt.figure(figsize=(10, 5))\n",
    "    plt.plot(x, y, 'o')\n",
    "    plt.xlabel(x_label)\n",
    "    plt.ylabel(y_label)\n",
    "    plt.show()\n",
    "\n",
    "for c in [\"livingSpace\", \"noRooms\", \"hasKitchen\", \"cellar\", \"garden\", \"balcony\"]:\n",
    "    plot_ticks(berlinDf_select[\"baseRent\"], berlinDf_select[c], 'baseRent', c)\n",
    "  "
   ]
  },
  {
   "cell_type": "code",
   "execution_count": null,
   "id": "a02a66ab",
   "metadata": {},
   "outputs": [],
   "source": [
    "for c in [\"heatingType\", \"firingTypes\"]:\n",
    "    berlinDf_select[c] = berlinDf_select[c].fillna(\"NO_INFORMATION\")\n",
    "    classes = berlinDf_select[c].unique()\n",
    "    data = {}\n",
    "    for cl in classes:\n",
    "        mean = berlinDf_select[berlinDf_select[c]==cl][\"baseRent\"].mean()\n",
    "        data[str(cl)] = round(mean,0)\n",
    "    plot_barh(data, c)\n"
   ]
  },
  {
   "cell_type": "code",
   "execution_count": null,
   "id": "32dbe01b",
   "metadata": {},
   "outputs": [],
   "source": [
    "# We will:\n",
    "#     - later experiment training by exluding the [\"hasKitchen\", \"cellar\", \"garden\", \"balcony\"]\n",
    "#     - remove records with baseRent bigger than 5000 and 7500\n",
    "#     - remove record with noRooms > 10\n",
    "\n",
    "berlinDf_final = berlinDf_select\n",
    "berlinDf_final = berlinDf_final.drop(berlinDf_final[berlinDf_final['baseRent']>5000].index)\n",
    "berlinDf_final = berlinDf_final.drop(berlinDf_final[berlinDf_final['noRooms']>10].index)\n",
    "\n",
    "berlinDf_final\n"
   ]
  },
  {
   "cell_type": "code",
   "execution_count": null,
   "id": "4ce0c385",
   "metadata": {},
   "outputs": [],
   "source": [
    "print(\"Final data:\")\n",
    "display(berlinDf_final.isna().sum())\n",
    "\n",
    "pd.set_option('display.max_columns', None)\n",
    "berlinDf_final"
   ]
  }
 ],
 "metadata": {
  "kernelspec": {
   "display_name": "Python 3",
   "language": "python",
   "name": "python3"
  },
  "language_info": {
   "codemirror_mode": {
    "name": "ipython",
    "version": 3
   },
   "file_extension": ".py",
   "mimetype": "text/x-python",
   "name": "python",
   "nbconvert_exporter": "python",
   "pygments_lexer": "ipython3",
   "version": "3.8.8"
  }
 },
 "nbformat": 4,
 "nbformat_minor": 5
}
