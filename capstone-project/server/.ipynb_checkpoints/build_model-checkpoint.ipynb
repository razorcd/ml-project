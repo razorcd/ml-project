{
 "cells": [
  {
   "cell_type": "code",
   "execution_count": null,
   "id": "169bf44d",
   "metadata": {},
   "outputs": [],
   "source": [
    "# import the project1-prepareData notebook:\n",
    "!pip install ipynb\n",
    "from ipynb.fs.full.project1_prepareData import *\n",
    "\n",
    "\n",
    "import numpy as np # linear algebra\n",
    "import pandas as pd # data processing, CSV file I/O (e.g. pd.read_csv)\n"
   ]
  },
  {
   "cell_type": "code",
   "execution_count": 2,
   "id": "41cce1aa",
   "metadata": {},
   "outputs": [
    {
     "name": "stdout",
     "output_type": "stream",
     "text": [
      "Requirement already satisfied: xgboost in /home/cristiandugacicu/anaconda3/lib/python3.8/site-packages (1.4.2)\r\n",
      "Requirement already satisfied: numpy in /home/cristiandugacicu/anaconda3/lib/python3.8/site-packages (from xgboost) (1.19.5)\r\n",
      "Requirement already satisfied: scipy in /home/cristiandugacicu/anaconda3/lib/python3.8/site-packages (from xgboost) (1.6.2)\r\n"
     ]
    }
   ],
   "source": [
    "#Model training with XGboost\n",
    "!pip install xgboost\n",
    "\n",
    "import xgboost as xgb\n",
    "from sklearn.feature_extraction import DictVectorizer\n",
    "\n",
    "\n",
    "\n",
    "from sklearn.tree import DecisionTreeClassifier\n",
    "from sklearn.metrics import roc_auc_score\n",
    "\n",
    "def train(dataFrame, y, max_depth, eta):\n",
    "    # Hot Encoding\n",
    "    dicts = dataFrame.to_dict(orient=\"records\")\n",
    "    dv = DictVectorizer(sparse=False)\n",
    "    X = dv.fit_transform(dicts)\n",
    "    features = dv.get_feature_names()\n",
    "    X = dv.fit_transform(dicts)\n",
    "    dtrain = xgb.DMatrix(X, label=y, feature_names=features)\n",
    "\n",
    "    # train\n",
    "    xgb_params = {\n",
    "        'eta': eta,\n",
    "        'max_depth': max_depth,\n",
    "        'min_child_weight': 1,\n",
    "        'objective': 'binary:logistic',\n",
    "        'nthread': 8,\n",
    "        'seed':1,\n",
    "        'verbosity':0\n",
    "    }\n",
    "    model = xgb.train(xgb_params, dtrain, num_boost_round=10)\n",
    "    return dv, model"
   ]
  },
  {
   "cell_type": "code",
   "execution_count": 3,
   "id": "4075b386",
   "metadata": {},
   "outputs": [
    {
     "data": {
      "text/plain": [
       "array([ True,  True,  True, ...,  True,  True,  True])"
      ]
     },
     "execution_count": 3,
     "metadata": {},
     "output_type": "execute_result"
    }
   ],
   "source": [
    "# Predict\n",
    "\n",
    "def predict(dataFrame, dv, model):\n",
    "    dicts = dataFrame.to_dict(orient=\"records\")\n",
    "    X = dv.transform(dicts)\n",
    "    features = dv.get_feature_names()\n",
    "    dval = xgb.DMatrix(X, feature_names=features)\n",
    "    y_pred = model.predict(dval)\n",
    "    return y_pred, X\n"
   ]
  },
  {
   "cell_type": "code",
   "execution_count": 7,
   "id": "d91075ae",
   "metadata": {},
   "outputs": [
    {
     "name": "stdout",
     "output_type": "stream",
     "text": [
      "AUC for xgboost: 0.8834040882607493\n"
     ]
    }
   ],
   "source": []
  }
 ],
 "metadata": {
  "kernelspec": {
   "display_name": "Python 3",
   "language": "python",
   "name": "python3"
  },
  "language_info": {
   "codemirror_mode": {
    "name": "ipython",
    "version": 3
   },
   "file_extension": ".py",
   "mimetype": "text/x-python",
   "name": "python",
   "nbconvert_exporter": "python",
   "pygments_lexer": "ipython3",
   "version": "3.8.8"
  }
 },
 "nbformat": 4,
 "nbformat_minor": 5
}
